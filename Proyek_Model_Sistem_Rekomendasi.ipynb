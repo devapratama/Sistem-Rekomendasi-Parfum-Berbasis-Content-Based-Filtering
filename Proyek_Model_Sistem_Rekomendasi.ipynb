{
  "nbformat": 4,
  "nbformat_minor": 0,
  "metadata": {
    "colab": {
      "provenance": [],
      "collapsed_sections": [
        "QhtEiszZKbhu",
        "-VyYcK0MH4Wr",
        "XTUF2sYDr5no"
      ],
      "toc_visible": true
    },
    "kernelspec": {
      "name": "python3",
      "display_name": "Python 3"
    },
    "language_info": {
      "name": "python"
    }
  },
  "cells": [
    {
      "cell_type": "markdown",
      "source": [
        "# Sistem Rekomendasi Parfum Berbasis Content-Based Filtering\n",
        "- **Nama:** Ahmad Sabil Deva Pratama\n",
        "- **Email:** devapratama4912@gmail.com\n",
        "- **ID Dicoding:** devaprtm49"
      ],
      "metadata": {
        "id": "3YkQPx6M172U"
      }
    },
    {
      "cell_type": "markdown",
      "source": [
        "## **1. Project Overview**\n",
        "\n",
        "### **1.1 Latar Belakang**\n",
        "Dalam industri parfum, pemilihan parfum yang tepat seringkali menjadi tantangan bagi konsumen, khususnya mereka yang tidak berpengalaman. Banyaknya pilihan yang tersedia dan kurangnya informasi yang jelas mengenai produk menyebabkan konsumen kesulitan dalam membuat keputusan. Seiring dengan perkembangan teknologi, sistem rekomendasi telah digunakan di banyak industri untuk membantu pengguna menemukan produk yang sesuai dengan preferensi mereka. Proyek ini bertujuan untuk membangun sistem rekomendasi parfum menggunakan teknik **Content-Based Filtering**, yang mengandalkan informasi mengenai deskripsi produk dan catatan wewangian untuk memberikan rekomendasi yang personal.\n",
        "\n",
        "### **1.2 Tujuan Proyek**\n",
        "Tujuan utama dari proyek ini adalah:\n",
        "1. Mengembangkan sistem rekomendasi parfum berbasis **Content-Based Filtering** untuk memberikan rekomendasi parfum yang relevan bagi pengguna.\n",
        "2. Menganalisis kemiripan antar parfum berdasarkan deskripsi produk dan catatan wewangian yang dimiliki setiap parfum.\n",
        "3. Mengevaluasi performa sistem dengan menggunakan metrik Precision at K untuk mengukur sejauh mana rekomendasi yang diberikan benar-benar relevan dengan pengguna.\n",
        "\n",
        "### **1.3 Pentingnya Proyek**\n",
        "Sistem rekomendasi parfum ini sangat berguna untuk membantu konsumen menemukan parfum yang sesuai dengan preferensi mereka tanpa harus melalui proses pencarian yang memakan waktu. Dengan memanfaatkan **Content-Based Filtering**, sistem ini dapat memberikan rekomendasi yang personal bahkan tanpa membutuhkan data historis tentang interaksi pengguna."
      ],
      "metadata": {
        "id": "mExmgXR82oCq"
      }
    },
    {
      "cell_type": "markdown",
      "source": [
        "## **2. Business Understanding**\n",
        "\n",
        "### **2.1 Problem Statements**\n",
        "\n",
        "1. Bagaimana memberikan rekomendasi parfum yang relevan berdasarkan karakteristik parfum yang ada?\n",
        "2. Bagaimana mengukur kesamaan antar parfum secara efektif untuk meningkatkan relevansi rekomendasi?\n",
        "\n",
        "### **2.2 Goals**\n",
        "\n",
        "1. Mengembangkan sistem rekomendasi parfum berbasis **Content-Based Filtering**.\n",
        "2. Menganalisis kesamaan antar parfum berdasarkan deskripsi produk dan catatan wewangian.\n",
        "\n",
        "### **2.3 Solution Statement**\n",
        "\n",
        "Pendekatan yang digunakan untuk mencapai tujuan adalah:\n",
        "1. Menggunakan **TF-IDF Vectorizer** untuk mengolah deskripsi parfum dan catatan wewangian menjadi representasi numerik.\n",
        "2. Menghitung kesamaan antar parfum menggunakan **Cosine Similarity**.\n",
        "\n",
        "Dengan solusi ini, diharapkan sistem rekomendasi parfum dapat membantu konsumen menemukan produk yang sesuai dengan preferensi mereka lebih efisien dan meningkatkan konversi penjualan untuk bisnis parfum."
      ],
      "metadata": {
        "id": "ng-Lou4t4NFr"
      }
    },
    {
      "cell_type": "markdown",
      "source": [
        "## **3. Data Understanding**"
      ],
      "metadata": {
        "id": "QhtEiszZKbhu"
      }
    },
    {
      "cell_type": "markdown",
      "source": [
        "### **3.1 Deskripsi Dataset**\n",
        "Dataset yang digunakan dalam proyek ini berasal dari **Kaggle**, dengan judul *Perfume Recommendation Dataset* (https://www.kaggle.com/datasets/nandini1999/perfume-recommendation-dataset). Dataset ini berisi informasi mengenai 2.191 parfum dari berbagai merek. Dataset ini memiliki lima kolom utama:\n",
        "\n",
        "\n",
        "| **Kolom**       | **Deskripsi**                                               |\n",
        "|-----------------|-------------------------------------------------------------|\n",
        "| **Name**        | Nama parfum                                                 |\n",
        "| **Brand**       | Merek atau perusahaan pembuat parfum                        |\n",
        "| **Description** | Deskripsi tentang parfum, termasuk suasana hati dan karakteristik aroma |\n",
        "| **Notes**       | Daftar catatan wewangian yang ada dalam parfum (misalnya, citrus, musk, lavender) |\n",
        "| **Image URL**   | URL gambar dari parfum                                      |"
      ],
      "metadata": {
        "id": "ZCWW0U7c_WlT"
      }
    },
    {
      "cell_type": "code",
      "source": [
        "# Import Semua Packages/Library yang Digunakan\n",
        "\n",
        "import pandas as pd\n",
        "import matplotlib.pyplot as plt\n",
        "import seaborn as sns\n",
        "import nltk\n",
        "from nltk.corpus import stopwords\n",
        "from sklearn.feature_extraction.text import TfidfVectorizer\n",
        "from scipy.sparse import hstack\n",
        "from sklearn.metrics.pairwise import cosine_similarity"
      ],
      "metadata": {
        "id": "i1eLpr3YNgxc"
      },
      "execution_count": 1,
      "outputs": []
    },
    {
      "cell_type": "code",
      "source": [
        "data = pd.read_csv('final_perfume_data.csv', encoding= 'unicode_escape')\n",
        "data.head()"
      ],
      "metadata": {
        "colab": {
          "base_uri": "https://localhost:8080/",
          "height": 0
        },
        "id": "Zwyn5hzG2nVt",
        "outputId": "03290e7d-3bcf-439a-a66f-fe01d93bb23a"
      },
      "execution_count": 2,
      "outputs": [
        {
          "output_type": "execute_result",
          "data": {
            "text/plain": [
              "                                  Name          Brand  \\\n",
              "0                 Tihota Eau de Parfum         Indult   \n",
              "1                          Sola Parfum         Di Ser   \n",
              "2                       Kagiroi Parfum         Di Ser   \n",
              "3         Velvet Fantasy Eau de Parfum        Montale   \n",
              "4  A Blvd. Called Sunset Eau de Parfum  A Lab on Fire   \n",
              "\n",
              "                                         Description  \\\n",
              "0   Rapa Nui for sugar, Tihota is, quite simply, ...   \n",
              "1   A tribute to the expanse of space extending f...   \n",
              "2   An aromatic ode to the ancient beauty of Japa...   \n",
              "3   Velvet Fantasy is a solar fragrance where cit...   \n",
              "4   There's no way A Lab On Fire could relocate t...   \n",
              "\n",
              "                                               Notes  \\\n",
              "0                                Vanilla bean, musks   \n",
              "1   Lavender, Yuzu, Lemongrass, Magnolia, Geraniu...   \n",
              "2   Green yuzu, green shikuwasa, sansho seed, cor...   \n",
              "3   tangerine,  pink pepper,  black coffee,  leat...   \n",
              "4   Bergamot, almond, violet, jasmine, leather, s...   \n",
              "\n",
              "                                           Image URL  \n",
              "0  https://static.luckyscent.com/images/products/...  \n",
              "1  https://static.luckyscent.com/images/products/...  \n",
              "2  https://static.luckyscent.com/images/products/...  \n",
              "3  https://static.luckyscent.com/images/products/...  \n",
              "4  https://static.luckyscent.com/images/products/...  "
            ],
            "text/html": [
              "\n",
              "  <div id=\"df-be2bb1fe-c95e-4f9c-9f33-fa3719519d5c\" class=\"colab-df-container\">\n",
              "    <div>\n",
              "<style scoped>\n",
              "    .dataframe tbody tr th:only-of-type {\n",
              "        vertical-align: middle;\n",
              "    }\n",
              "\n",
              "    .dataframe tbody tr th {\n",
              "        vertical-align: top;\n",
              "    }\n",
              "\n",
              "    .dataframe thead th {\n",
              "        text-align: right;\n",
              "    }\n",
              "</style>\n",
              "<table border=\"1\" class=\"dataframe\">\n",
              "  <thead>\n",
              "    <tr style=\"text-align: right;\">\n",
              "      <th></th>\n",
              "      <th>Name</th>\n",
              "      <th>Brand</th>\n",
              "      <th>Description</th>\n",
              "      <th>Notes</th>\n",
              "      <th>Image URL</th>\n",
              "    </tr>\n",
              "  </thead>\n",
              "  <tbody>\n",
              "    <tr>\n",
              "      <th>0</th>\n",
              "      <td>Tihota Eau de Parfum</td>\n",
              "      <td>Indult</td>\n",
              "      <td>Rapa Nui for sugar, Tihota is, quite simply, ...</td>\n",
              "      <td>Vanilla bean, musks</td>\n",
              "      <td>https://static.luckyscent.com/images/products/...</td>\n",
              "    </tr>\n",
              "    <tr>\n",
              "      <th>1</th>\n",
              "      <td>Sola Parfum</td>\n",
              "      <td>Di Ser</td>\n",
              "      <td>A tribute to the expanse of space extending f...</td>\n",
              "      <td>Lavender, Yuzu, Lemongrass, Magnolia, Geraniu...</td>\n",
              "      <td>https://static.luckyscent.com/images/products/...</td>\n",
              "    </tr>\n",
              "    <tr>\n",
              "      <th>2</th>\n",
              "      <td>Kagiroi Parfum</td>\n",
              "      <td>Di Ser</td>\n",
              "      <td>An aromatic ode to the ancient beauty of Japa...</td>\n",
              "      <td>Green yuzu, green shikuwasa, sansho seed, cor...</td>\n",
              "      <td>https://static.luckyscent.com/images/products/...</td>\n",
              "    </tr>\n",
              "    <tr>\n",
              "      <th>3</th>\n",
              "      <td>Velvet Fantasy Eau de Parfum</td>\n",
              "      <td>Montale</td>\n",
              "      <td>Velvet Fantasy is a solar fragrance where cit...</td>\n",
              "      <td>tangerine,  pink pepper,  black coffee,  leat...</td>\n",
              "      <td>https://static.luckyscent.com/images/products/...</td>\n",
              "    </tr>\n",
              "    <tr>\n",
              "      <th>4</th>\n",
              "      <td>A Blvd. Called Sunset Eau de Parfum</td>\n",
              "      <td>A Lab on Fire</td>\n",
              "      <td>There's no way A Lab On Fire could relocate t...</td>\n",
              "      <td>Bergamot, almond, violet, jasmine, leather, s...</td>\n",
              "      <td>https://static.luckyscent.com/images/products/...</td>\n",
              "    </tr>\n",
              "  </tbody>\n",
              "</table>\n",
              "</div>\n",
              "    <div class=\"colab-df-buttons\">\n",
              "\n",
              "  <div class=\"colab-df-container\">\n",
              "    <button class=\"colab-df-convert\" onclick=\"convertToInteractive('df-be2bb1fe-c95e-4f9c-9f33-fa3719519d5c')\"\n",
              "            title=\"Convert this dataframe to an interactive table.\"\n",
              "            style=\"display:none;\">\n",
              "\n",
              "  <svg xmlns=\"http://www.w3.org/2000/svg\" height=\"24px\" viewBox=\"0 -960 960 960\">\n",
              "    <path d=\"M120-120v-720h720v720H120Zm60-500h600v-160H180v160Zm220 220h160v-160H400v160Zm0 220h160v-160H400v160ZM180-400h160v-160H180v160Zm440 0h160v-160H620v160ZM180-180h160v-160H180v160Zm440 0h160v-160H620v160Z\"/>\n",
              "  </svg>\n",
              "    </button>\n",
              "\n",
              "  <style>\n",
              "    .colab-df-container {\n",
              "      display:flex;\n",
              "      gap: 12px;\n",
              "    }\n",
              "\n",
              "    .colab-df-convert {\n",
              "      background-color: #E8F0FE;\n",
              "      border: none;\n",
              "      border-radius: 50%;\n",
              "      cursor: pointer;\n",
              "      display: none;\n",
              "      fill: #1967D2;\n",
              "      height: 32px;\n",
              "      padding: 0 0 0 0;\n",
              "      width: 32px;\n",
              "    }\n",
              "\n",
              "    .colab-df-convert:hover {\n",
              "      background-color: #E2EBFA;\n",
              "      box-shadow: 0px 1px 2px rgba(60, 64, 67, 0.3), 0px 1px 3px 1px rgba(60, 64, 67, 0.15);\n",
              "      fill: #174EA6;\n",
              "    }\n",
              "\n",
              "    .colab-df-buttons div {\n",
              "      margin-bottom: 4px;\n",
              "    }\n",
              "\n",
              "    [theme=dark] .colab-df-convert {\n",
              "      background-color: #3B4455;\n",
              "      fill: #D2E3FC;\n",
              "    }\n",
              "\n",
              "    [theme=dark] .colab-df-convert:hover {\n",
              "      background-color: #434B5C;\n",
              "      box-shadow: 0px 1px 3px 1px rgba(0, 0, 0, 0.15);\n",
              "      filter: drop-shadow(0px 1px 2px rgba(0, 0, 0, 0.3));\n",
              "      fill: #FFFFFF;\n",
              "    }\n",
              "  </style>\n",
              "\n",
              "    <script>\n",
              "      const buttonEl =\n",
              "        document.querySelector('#df-be2bb1fe-c95e-4f9c-9f33-fa3719519d5c button.colab-df-convert');\n",
              "      buttonEl.style.display =\n",
              "        google.colab.kernel.accessAllowed ? 'block' : 'none';\n",
              "\n",
              "      async function convertToInteractive(key) {\n",
              "        const element = document.querySelector('#df-be2bb1fe-c95e-4f9c-9f33-fa3719519d5c');\n",
              "        const dataTable =\n",
              "          await google.colab.kernel.invokeFunction('convertToInteractive',\n",
              "                                                    [key], {});\n",
              "        if (!dataTable) return;\n",
              "\n",
              "        const docLinkHtml = 'Like what you see? Visit the ' +\n",
              "          '<a target=\"_blank\" href=https://colab.research.google.com/notebooks/data_table.ipynb>data table notebook</a>'\n",
              "          + ' to learn more about interactive tables.';\n",
              "        element.innerHTML = '';\n",
              "        dataTable['output_type'] = 'display_data';\n",
              "        await google.colab.output.renderOutput(dataTable, element);\n",
              "        const docLink = document.createElement('div');\n",
              "        docLink.innerHTML = docLinkHtml;\n",
              "        element.appendChild(docLink);\n",
              "      }\n",
              "    </script>\n",
              "  </div>\n",
              "\n",
              "\n",
              "<div id=\"df-9ba36ba6-0b16-4273-bed9-d485a9331774\">\n",
              "  <button class=\"colab-df-quickchart\" onclick=\"quickchart('df-9ba36ba6-0b16-4273-bed9-d485a9331774')\"\n",
              "            title=\"Suggest charts\"\n",
              "            style=\"display:none;\">\n",
              "\n",
              "<svg xmlns=\"http://www.w3.org/2000/svg\" height=\"24px\"viewBox=\"0 0 24 24\"\n",
              "     width=\"24px\">\n",
              "    <g>\n",
              "        <path d=\"M19 3H5c-1.1 0-2 .9-2 2v14c0 1.1.9 2 2 2h14c1.1 0 2-.9 2-2V5c0-1.1-.9-2-2-2zM9 17H7v-7h2v7zm4 0h-2V7h2v10zm4 0h-2v-4h2v4z\"/>\n",
              "    </g>\n",
              "</svg>\n",
              "  </button>\n",
              "\n",
              "<style>\n",
              "  .colab-df-quickchart {\n",
              "      --bg-color: #E8F0FE;\n",
              "      --fill-color: #1967D2;\n",
              "      --hover-bg-color: #E2EBFA;\n",
              "      --hover-fill-color: #174EA6;\n",
              "      --disabled-fill-color: #AAA;\n",
              "      --disabled-bg-color: #DDD;\n",
              "  }\n",
              "\n",
              "  [theme=dark] .colab-df-quickchart {\n",
              "      --bg-color: #3B4455;\n",
              "      --fill-color: #D2E3FC;\n",
              "      --hover-bg-color: #434B5C;\n",
              "      --hover-fill-color: #FFFFFF;\n",
              "      --disabled-bg-color: #3B4455;\n",
              "      --disabled-fill-color: #666;\n",
              "  }\n",
              "\n",
              "  .colab-df-quickchart {\n",
              "    background-color: var(--bg-color);\n",
              "    border: none;\n",
              "    border-radius: 50%;\n",
              "    cursor: pointer;\n",
              "    display: none;\n",
              "    fill: var(--fill-color);\n",
              "    height: 32px;\n",
              "    padding: 0;\n",
              "    width: 32px;\n",
              "  }\n",
              "\n",
              "  .colab-df-quickchart:hover {\n",
              "    background-color: var(--hover-bg-color);\n",
              "    box-shadow: 0 1px 2px rgba(60, 64, 67, 0.3), 0 1px 3px 1px rgba(60, 64, 67, 0.15);\n",
              "    fill: var(--button-hover-fill-color);\n",
              "  }\n",
              "\n",
              "  .colab-df-quickchart-complete:disabled,\n",
              "  .colab-df-quickchart-complete:disabled:hover {\n",
              "    background-color: var(--disabled-bg-color);\n",
              "    fill: var(--disabled-fill-color);\n",
              "    box-shadow: none;\n",
              "  }\n",
              "\n",
              "  .colab-df-spinner {\n",
              "    border: 2px solid var(--fill-color);\n",
              "    border-color: transparent;\n",
              "    border-bottom-color: var(--fill-color);\n",
              "    animation:\n",
              "      spin 1s steps(1) infinite;\n",
              "  }\n",
              "\n",
              "  @keyframes spin {\n",
              "    0% {\n",
              "      border-color: transparent;\n",
              "      border-bottom-color: var(--fill-color);\n",
              "      border-left-color: var(--fill-color);\n",
              "    }\n",
              "    20% {\n",
              "      border-color: transparent;\n",
              "      border-left-color: var(--fill-color);\n",
              "      border-top-color: var(--fill-color);\n",
              "    }\n",
              "    30% {\n",
              "      border-color: transparent;\n",
              "      border-left-color: var(--fill-color);\n",
              "      border-top-color: var(--fill-color);\n",
              "      border-right-color: var(--fill-color);\n",
              "    }\n",
              "    40% {\n",
              "      border-color: transparent;\n",
              "      border-right-color: var(--fill-color);\n",
              "      border-top-color: var(--fill-color);\n",
              "    }\n",
              "    60% {\n",
              "      border-color: transparent;\n",
              "      border-right-color: var(--fill-color);\n",
              "    }\n",
              "    80% {\n",
              "      border-color: transparent;\n",
              "      border-right-color: var(--fill-color);\n",
              "      border-bottom-color: var(--fill-color);\n",
              "    }\n",
              "    90% {\n",
              "      border-color: transparent;\n",
              "      border-bottom-color: var(--fill-color);\n",
              "    }\n",
              "  }\n",
              "</style>\n",
              "\n",
              "  <script>\n",
              "    async function quickchart(key) {\n",
              "      const quickchartButtonEl =\n",
              "        document.querySelector('#' + key + ' button');\n",
              "      quickchartButtonEl.disabled = true;  // To prevent multiple clicks.\n",
              "      quickchartButtonEl.classList.add('colab-df-spinner');\n",
              "      try {\n",
              "        const charts = await google.colab.kernel.invokeFunction(\n",
              "            'suggestCharts', [key], {});\n",
              "      } catch (error) {\n",
              "        console.error('Error during call to suggestCharts:', error);\n",
              "      }\n",
              "      quickchartButtonEl.classList.remove('colab-df-spinner');\n",
              "      quickchartButtonEl.classList.add('colab-df-quickchart-complete');\n",
              "    }\n",
              "    (() => {\n",
              "      let quickchartButtonEl =\n",
              "        document.querySelector('#df-9ba36ba6-0b16-4273-bed9-d485a9331774 button');\n",
              "      quickchartButtonEl.style.display =\n",
              "        google.colab.kernel.accessAllowed ? 'block' : 'none';\n",
              "    })();\n",
              "  </script>\n",
              "</div>\n",
              "\n",
              "    </div>\n",
              "  </div>\n"
            ],
            "application/vnd.google.colaboratory.intrinsic+json": {
              "type": "dataframe",
              "variable_name": "data",
              "summary": "{\n  \"name\": \"data\",\n  \"rows\": 2191,\n  \"fields\": [\n    {\n      \"column\": \"Name\",\n      \"properties\": {\n        \"dtype\": \"string\",\n        \"num_unique_values\": 2184,\n        \"samples\": [\n          \"Patchouli Eau de Toilette\",\n          \"Papelato Eau de Parfum\",\n          \"Creation-E Parfum Cologne\"\n        ],\n        \"semantic_type\": \"\",\n        \"description\": \"\"\n      }\n    },\n    {\n      \"column\": \"Brand\",\n      \"properties\": {\n        \"dtype\": \"category\",\n        \"num_unique_values\": 249,\n        \"samples\": [\n          \"Parfum Satori\",\n          \"Zoologist\",\n          \"Tauer Perfumes\"\n        ],\n        \"semantic_type\": \"\",\n        \"description\": \"\"\n      }\n    },\n    {\n      \"column\": \"Description\",\n      \"properties\": {\n        \"dtype\": \"string\",\n        \"num_unique_values\": 2167,\n        \"samples\": [\n          \" BYREDO presents a hair perfume collection that invites you to care for and delicately scent the hair in one sensuous beautifying gesture. Enjoy the uplifting power of long lasting scents as they subtly diffuse throughout the day, amplified by the natural movement of the hair. Each hair perfume combines one of BYREDO's signature scents with a unique silicone and polymer formula to create a light, invisible veil designed to leave the hair nourished and luminous whilst divinely scented.\\rBal d'Afrique is inspired by Paris in the late 1920's, when the city was infatuated with an idiosyncratic and fantastical vision of African culture, music and dance. A vivacious blast of sunny citrus with just a pinch of spicy marigold makes a suitably dramatic entrance, leading to a brew of green bucchu, sheer and aqueous cyclamen and sweet violet. At center stage is the ever-bewitching vetiver, earthy and spicy, and smoothed with sweet amber and warm musk until it becomes velvety and almost edible. An extra soup\\u00c3\\u00a7on of growl is provided by cedar wood, but the overall effect is less voracious man-eating tiger and more of a mischievous tiger cub \\u0096 sweet and adorable, but it still has claws. Bal d'Afrique is warm and embracing with a purring, cozy quality that has us at its mercy. Be careful, this one is addictive.\",\n          \" As with all great stories, Tango immediately sets the stage: bergamot, black pepper and cardamom whisk us away to a sultry summer night in the Canary Islands, a party already in full swing. The music swells louder as you tip back another glass of local honey rum, heady, sweet and inebriating. You turn your head to catch the warm evening breeze, which carries the scent of night blooming jasmine mingled with the salty sweat of the revelers, and you catch the eye of a beautiful stranger. Another deep gulp of the rum, cool vanilla standing out against the rich, warm amber. You stand and offer your hand- you're not always this brave, but tonight, the rum and the rhythm will not be denied. And just as she smiles and rises to meet you, the music reaches crescendo, and the air seems to get even hotter. \\rTango is a deep amber fragrance, warm and sensual, spicy and indulgent, and more than a little bit wild. The perfect scent for your next island-hopping nighttime adventure- or to add a little heat to any night at all.\",\n          \" Rome- the eternal city, a bustling modern metropolis with thousands of years of history beating in its heart and etched into its streets. Zefiro pays homage to Rome's baroque alchemy, a fragrance with both the instant appeal and the grand mystery of such a prestigious capital, suggestive and elusive, vibrant and unknowable. \\rZefiro opens with the lavish giddiness of il dolce far niente, a long weekend of fine wine and rich fruits. Cardamom and cinnamon evoke both mouthwatering cuisine and the well-spiced bustle of Rome's never-ending crowds, while iris and carnation represent beauty in all forms, from the perpetual spring season to the fashionable beauties in every square and nightclub. But Rome is also a city of history, and as Zefiro dries down, a rich amber and smoky incense remind us that around every corner is another masterpiece-stuffed museum, extravagant palazzo, or Imperial stronghold. And yet, a sweet, pervasive honey holds the earlier notes in place as well- after all, Rome isn't a city that changes, but a city where ancient and modern take root together in a hypnotic whirl.\"\n        ],\n        \"semantic_type\": \"\",\n        \"description\": \"\"\n      }\n    },\n    {\n      \"column\": \"Notes\",\n      \"properties\": {\n        \"dtype\": \"string\",\n        \"num_unique_values\": 2053,\n        \"samples\": [\n          \" hay, plum, espresso, tobacco, hazelnut, leather, patchouli, incense, dark chocolate, tar, castoreum, cognac, labdanum, beeswax, cherry, amber, allspice, Javanol, saffron, burning tire\",\n          \" Linden blossom, magnolia, lime, frangipani, rose, tuberose, water lily, plum, amber, musk, cedar, vanilla\",\n          \" Citrus, jasmine, saffron, sage, ambergris, oakmoss, cedar\"\n        ],\n        \"semantic_type\": \"\",\n        \"description\": \"\"\n      }\n    },\n    {\n      \"column\": \"Image URL\",\n      \"properties\": {\n        \"dtype\": \"string\",\n        \"num_unique_values\": 2191,\n        \"samples\": [\n          \"https://static.luckyscent.com/images/products/757041.jpg?width=400&404=product.png\",\n          \"https://static.luckyscent.com/images/products/825009.jpg?width=400&404=product.png\",\n          \"https://static.luckyscent.com/images/products/21904.jpg?width=400&404=product.png\"\n        ],\n        \"semantic_type\": \"\",\n        \"description\": \"\"\n      }\n    }\n  ]\n}"
            }
          },
          "metadata": {},
          "execution_count": 2
        }
      ]
    },
    {
      "cell_type": "markdown",
      "source": [
        "Dari output tersebut, kita dapat melihat bahwa dataset ini berisi informasi yang relevan mengenai parfum, seperti nama, merek, deskripsi, catatan wewangian, dan URL gambar."
      ],
      "metadata": {
        "id": "MzKhP4hkBFG5"
      }
    },
    {
      "cell_type": "markdown",
      "source": [
        "### **3.2 Data Quality**\n",
        "\n",
        "Setelah membaca data, hal pertama yang perlu diperiksa adalah kualitas data, termasuk adanya nilai yang hilang (missing values). Ini sangat penting karena nilai yang hilang pada kolom **Description** atau **Notes** dapat mempengaruhi performa model rekomendasi."
      ],
      "metadata": {
        "id": "UJTKszJaBKEY"
      }
    },
    {
      "cell_type": "code",
      "execution_count": 3,
      "metadata": {
        "colab": {
          "base_uri": "https://localhost:8080/",
          "height": 0
        },
        "id": "sKW0dJFDqrlv",
        "outputId": "29f1a4c1-0b1e-4203-b1af-ef6f19c72bc2"
      },
      "outputs": [
        {
          "output_type": "execute_result",
          "data": {
            "text/plain": [
              "Name            0\n",
              "Brand           0\n",
              "Description     0\n",
              "Notes          80\n",
              "Image URL       0\n",
              "dtype: int64"
            ],
            "text/html": [
              "<div>\n",
              "<style scoped>\n",
              "    .dataframe tbody tr th:only-of-type {\n",
              "        vertical-align: middle;\n",
              "    }\n",
              "\n",
              "    .dataframe tbody tr th {\n",
              "        vertical-align: top;\n",
              "    }\n",
              "\n",
              "    .dataframe thead th {\n",
              "        text-align: right;\n",
              "    }\n",
              "</style>\n",
              "<table border=\"1\" class=\"dataframe\">\n",
              "  <thead>\n",
              "    <tr style=\"text-align: right;\">\n",
              "      <th></th>\n",
              "      <th>0</th>\n",
              "    </tr>\n",
              "  </thead>\n",
              "  <tbody>\n",
              "    <tr>\n",
              "      <th>Name</th>\n",
              "      <td>0</td>\n",
              "    </tr>\n",
              "    <tr>\n",
              "      <th>Brand</th>\n",
              "      <td>0</td>\n",
              "    </tr>\n",
              "    <tr>\n",
              "      <th>Description</th>\n",
              "      <td>0</td>\n",
              "    </tr>\n",
              "    <tr>\n",
              "      <th>Notes</th>\n",
              "      <td>80</td>\n",
              "    </tr>\n",
              "    <tr>\n",
              "      <th>Image URL</th>\n",
              "      <td>0</td>\n",
              "    </tr>\n",
              "  </tbody>\n",
              "</table>\n",
              "</div><br><label><b>dtype:</b> int64</label>"
            ]
          },
          "metadata": {},
          "execution_count": 3
        }
      ],
      "source": [
        "missing_values = data.isnull().sum()\n",
        "missing_values"
      ]
    },
    {
      "cell_type": "markdown",
      "source": [
        "Berdasarkan hasil tersebut, kita melihat bahwa kolom Notes memiliki 80 nilai yang hilang. Hal ini perlu diatasi dengan cara yang sesuai, misalnya dengan mengisi nilai yang hilang dengan string kosong ('') atau menggunakan teknik lain."
      ],
      "metadata": {
        "id": "Lc5Y2n8IDirb"
      }
    },
    {
      "cell_type": "markdown",
      "source": [
        "### **3.3 Exploratory Data Analysis (EDA)**\n",
        "\n",
        "Untuk memahami data lebih dalam, kita akan melakukan beberapa analisis eksplorasi dengan menggunakan visualisasi. Beberapa poin yang perlu dianalisis adalah distribusi jumlah parfum berdasarkan merek, panjang deskripsi, dan jumlah catatan wewangian."
      ],
      "metadata": {
        "id": "RwYRHTXdDjYx"
      }
    },
    {
      "cell_type": "markdown",
      "source": [
        "#### **3.3.1 Distribusi Merek Parfum**:\n",
        "\n",
        "Kita akan membuat grafik distribusi jumlah parfum berdasarkan merek untuk memahami apakah ada merek yang lebih dominan."
      ],
      "metadata": {
        "id": "o504wFpiD5Ik"
      }
    },
    {
      "cell_type": "code",
      "source": [
        "# Grafik distribusi jumlah parfum berdasarkan merek (Top 15)\n",
        "plt.figure(figsize=(10, 6))\n",
        "sns.countplot(y='Brand', data=data, order=data['Brand'].value_counts().head(15).index)\n",
        "plt.title('Distribusi Merek Parfum')\n",
        "plt.xlabel('Jumlah')\n",
        "plt.ylabel('Merek Parfum')\n",
        "plt.show()"
      ],
      "metadata": {
        "colab": {
          "base_uri": "https://localhost:8080/",
          "height": 0
        },
        "id": "IsoC2I0yDdSP",
        "outputId": "888876ca-36e8-4540-80ac-4b034f219c63"
      },
      "execution_count": 4,
      "outputs": [
        {
          "output_type": "display_data",
          "data": {
            "text/plain": [
              "<Figure size 1000x600 with 1 Axes>"
            ],
            "image/png": "[encoded data removed]"
          },
          "metadata": {}
        }
      ]
    },
    {
      "cell_type": "markdown",
      "source": [
        "Merek TOM FORD Private Blend paling sering ditemukan, diikuti oleh Profumum dan Serge Lutens, yang menunjukkan dominasi merek-merek premium di pasar ini. Merek lain yang lebih kecil dapat memanfaatkan celah dengan menawarkan produk yang unik atau lebih terjangkau."
      ],
      "metadata": {
        "id": "mzX5bGtjMzMq"
      }
    },
    {
      "cell_type": "markdown",
      "source": [
        "#### **3.3.2 Distribusi Panjang Deskripsi Parfum**:\n",
        "\n",
        "Panjang deskripsi parfum dapat memberikan informasi mengenai variasi untuk setiap parfum."
      ],
      "metadata": {
        "id": "XKOIoAbMEuUb"
      }
    },
    {
      "cell_type": "code",
      "source": [
        "data['Description_Length'] = data['Description'].apply(lambda x: len(str(x)))\n",
        "plt.figure(figsize=(10, 6))\n",
        "sns.histplot(data['Description_Length'], kde=True, color='blue', bins=30)\n",
        "plt.title('Distribusi Panjang Deskripsi Parfum')\n",
        "plt.xlabel('Panjang Deskripsi (karakter)')\n",
        "plt.ylabel('Frekuensi')\n",
        "plt.show()"
      ],
      "metadata": {
        "colab": {
          "base_uri": "https://localhost:8080/",
          "height": 0
        },
        "id": "6y_cj_d5FF1S",
        "outputId": "935bf91f-5488-41f3-fcc0-5d1cd31451a2"
      },
      "execution_count": 5,
      "outputs": [
        {
          "output_type": "display_data",
          "data": {
            "text/plain": [
              "<Figure size 1000x600 with 1 Axes>"
            ],
            "image/png": "[encoded data removed]"
          },
          "metadata": {}
        }
      ]
    },
    {
      "cell_type": "markdown",
      "source": [
        "Deskripsi parfum yang paling umum memiliki panjang antara 800–1200 karakter, cukup untuk memberikan informasi lengkap tanpa terlalu panjang. Fokus pada penulisan yang singkat tetapi menarik dapat membantu konsumen memahami produk dengan mudah."
      ],
      "metadata": {
        "id": "Y4L1lhzOM8Sz"
      }
    },
    {
      "cell_type": "markdown",
      "source": [
        "#### **3.3.3 Distribusi Jumlah Catatan Wewangian**:\n",
        "\n",
        "Kita akan melihat distribusi jumlah catatan wewangian pada setiap parfum."
      ],
      "metadata": {
        "id": "e9yUtrAFFgLa"
      }
    },
    {
      "cell_type": "code",
      "source": [
        "data['Notes_Count'] = data['Notes'].apply(lambda x: len(str(x).split(',')))\n",
        "plt.figure(figsize=(10, 6))\n",
        "sns.histplot(data['Notes_Count'], kde=True, color='green', bins=20)\n",
        "plt.title('Distribusi Jumlah Catatan Wewangian')\n",
        "plt.xlabel('Jumlah Catatan Wewangian')\n",
        "plt.ylabel('Frekuensi')\n",
        "plt.show()"
      ],
      "metadata": {
        "colab": {
          "base_uri": "https://localhost:8080/",
          "height": 0
        },
        "id": "698UZSM4GJtE",
        "outputId": "affa00c9-4cfe-4eeb-f9b7-c7322af16fd1"
      },
      "execution_count": 6,
      "outputs": [
        {
          "output_type": "display_data",
          "data": {
            "text/plain": [
              "<Figure size 1000x600 with 1 Axes>"
            ],
            "image/png": "[encoded data removed]"
          },
          "metadata": {}
        }
      ]
    },
    {
      "cell_type": "markdown",
      "source": [
        "Sebagian besar parfum memiliki 5–10 catatan wewangian, menunjukkan bahwa konsumen cenderung menyukai parfum dengan kompleksitas yang sedang. Untuk menarik perhatian konsumen, produsen dapat bereksperimen dengan jumlah catatan yang lebih banyak atau unik."
      ],
      "metadata": {
        "id": "3lBywZ-EM4X4"
      }
    },
    {
      "cell_type": "markdown",
      "source": [
        "## **4. Data Preparation**\n",
        "\n",
        "Pada tahap Data Preparation, kita mempersiapkan data yang telah diperoleh untuk digunakan dalam model rekomendasi berbasis konten. Proses ini melibatkan beberapa langkah penting seperti menangani nilai yang hilang, pengolahan data teks (feature extraction), dan persiapan data untuk pemodelan."
      ],
      "metadata": {
        "id": "-VyYcK0MH4Wr"
      }
    },
    {
      "cell_type": "markdown",
      "source": [
        "### **4.1 Menangani Nilai yang Hilang (Missing Values)**\n",
        "\n",
        "Data yang hilang atau tidak lengkap dapat memengaruhi kualitas model rekomendasi yang akan dibangun. Oleh karena itu, salah satu langkah pertama dalam proses persiapan data adalah menangani nilai yang hilang pada kolom-kolom penting dalam dataset.\n",
        "\n",
        "Pada dataset ini, kita akan memeriksa kolom Notes yang memiliki nilai kosong atau NaN, dan menggantinya dengan string kosong (`\"\"`) untuk menghindari kesalahan saat melakukan pemodelan berbasis teks."
      ],
      "metadata": {
        "id": "AlL2a906oO3W"
      }
    },
    {
      "cell_type": "code",
      "source": [
        "data['Description'] = data['Description'].fillna('')\n",
        "data['Notes'] = data['Notes'].fillna('')\n",
        "\n",
        "missing_values = data.isnull().sum()\n",
        "print(missing_values)"
      ],
      "metadata": {
        "colab": {
          "base_uri": "https://localhost:8080/"
        },
        "id": "xGvkR-AFH3nU",
        "outputId": "1614acd7-3f95-4fee-fa8b-befa891246a6"
      },
      "execution_count": 7,
      "outputs": [
        {
          "output_type": "stream",
          "name": "stdout",
          "text": [
            "Name                  0\n",
            "Brand                 0\n",
            "Description           0\n",
            "Notes                 0\n",
            "Image URL             0\n",
            "Description_Length    0\n",
            "Notes_Count           0\n",
            "dtype: int64\n"
          ]
        }
      ]
    },
    {
      "cell_type": "markdown",
      "source": [
        "**Penjelasan:**\n",
        "- Kita menggunakan fungsi `fillna('')` untuk mengganti nilai yang hilang dengan string kosong pada kolom yang relevan.\n",
        "- Dengan ini, kita memastikan bahwa data tidak memiliki nilai kosong yang dapat menyebabkan masalah saat proses selanjutnya."
      ],
      "metadata": {
        "id": "_OAfg_PQp6yH"
      }
    },
    {
      "cell_type": "markdown",
      "source": [
        "### **4.2 Feature Engineering**\n",
        "\n",
        "Pada tahap ini, kita akan melakukan pengolahan teks untuk deskripsi dan catatan wewangian. Pengolahan teks ini penting untuk mengubah teks menjadi representasi numerik yang bisa diproses oleh model.\n",
        "\n",
        "1. **Stopwords Removal & Tokenization**:\n",
        "\n",
        "   - Stopwords adalah kata-kata umum yang tidak mengandung informasi penting (misalnya, \"the\", \"and\", \"is\"). Kita akan menghapus kata-kata ini.\n",
        "   - Tokenization adalah proses memecah teks menjadi kata atau token.\n",
        "\n",
        "2. **TF-IDF (Term Frequency-Inverse Document Frequency)**:\n",
        "\n",
        "   Teknik **TF-IDF** digunakan untuk mengubah teks menjadi vektor numerik. Kita akan menerapkan TF-IDF pada kolom Description dan Notes."
      ],
      "metadata": {
        "id": "tdCP9sTip9lj"
      }
    },
    {
      "cell_type": "code",
      "source": [
        "nltk.download('stopwords')\n",
        "stop_words = list(stopwords.words('english'))\n",
        "\n",
        "tfidf_vectorizer = TfidfVectorizer(stop_words=stop_words, max_features=500)\n",
        "tfidf_description = tfidf_vectorizer.fit_transform(data['Description'].fillna(''))\n",
        "tfidf_notes = tfidf_vectorizer.fit_transform(data['Notes'].fillna(''))\n",
        "\n",
        "print(\"TF-IDF matrix for Description:\", tfidf_description.shape)\n",
        "print(\"TF-IDF matrix for Notes:\", tfidf_notes.shape)"
      ],
      "metadata": {
        "colab": {
          "base_uri": "https://localhost:8080/"
        },
        "id": "FMoFtYiFqXaG",
        "outputId": "c11c57ca-8ce3-4b00-c18f-159337eaabfa"
      },
      "execution_count": 8,
      "outputs": [
        {
          "output_type": "stream",
          "name": "stderr",
          "text": [
            "[nltk_data] Downloading package stopwords to /root/nltk_data...\n",
            "[nltk_data]   Package stopwords is already up-to-date!\n"
          ]
        },
        {
          "output_type": "stream",
          "name": "stdout",
          "text": [
            "TF-IDF matrix for Description: (2191, 500)\n",
            "TF-IDF matrix for Notes: (2191, 500)\n"
          ]
        }
      ]
    },
    {
      "cell_type": "markdown",
      "source": [
        "**Penjelasan:**\n",
        "- TfidfVectorizer diterapkan pada kolom Description dan Notes untuk mengonversi teks menjadi vektor fitur numerik.\n",
        "- `stop_words='english'` menghapus kata-kata umum dalam bahasa Inggris yang tidak memberikan informasi penting.\n",
        "- `max_features=500` membatasi jumlah kata yang dipertimbangkan dalam proses vektorisasi untuk menghindari overfitting dan meningkatkan efisiensi."
      ],
      "metadata": {
        "id": "YOeCKFfFqa9x"
      }
    },
    {
      "cell_type": "markdown",
      "source": [
        "### **4.3 Penggabungan Fitur**\n",
        "\n",
        "Untuk membuat representasi fitur yang lebih kaya, kita akan menggabungkan vektor hasil dari **TF-IDF** untuk Description dan Notes menjadi satu fitur gabungan yang akan digunakan untuk menghitung kesamaan antar parfum. hstack() digunakan untuk menggabungkan fitur dari kedua kolom menjadi satu matriks fitur."
      ],
      "metadata": {
        "id": "bQBdxZGvql-D"
      }
    },
    {
      "cell_type": "code",
      "source": [
        "combined_features = hstack([tfidf_description, tfidf_notes])\n",
        "\n",
        "print(\"Shape of combined feature matrix:\", combined_features.shape)"
      ],
      "metadata": {
        "colab": {
          "base_uri": "https://localhost:8080/"
        },
        "id": "EC8zPEZp6dp0",
        "outputId": "3435a8ba-1876-4d4c-acec-3dceaca00c3f"
      },
      "execution_count": 9,
      "outputs": [
        {
          "output_type": "stream",
          "name": "stdout",
          "text": [
            "Shape of combined feature matrix: (2191, 1000)\n"
          ]
        }
      ]
    },
    {
      "cell_type": "code",
      "source": [
        "data['Perfume_ID'] = data.index\n",
        "prepared_data = pd.DataFrame(combined_features.toarray(), index=data['Perfume_ID'])\n",
        "prepared_data.head()"
      ],
      "metadata": {
        "colab": {
          "base_uri": "https://localhost:8080/",
          "height": 267
        },
        "id": "6QEjBXgvqkkG",
        "outputId": "f64e6ee8-7874-45f3-9063-2fa23bccfe63"
      },
      "execution_count": 10,
      "outputs": [
        {
          "output_type": "execute_result",
          "data": {
            "text/plain": [
              "            0    1         2    3    4        5    6    7         8    9    \\\n",
              "Perfume_ID                                                                   \n",
              "0           0.0  0.0  0.000000  0.0  0.0  0.00000  0.0  0.0  0.000000  0.0   \n",
              "1           0.0  0.0  0.000000  0.0  0.0  0.00000  0.0  0.0  0.000000  0.0   \n",
              "2           0.0  0.0  0.000000  0.0  0.0  0.22623  0.0  0.0  0.000000  0.0   \n",
              "3           0.0  0.0  0.000000  0.0  0.0  0.00000  0.0  0.0  0.000000  0.0   \n",
              "4           0.0  0.0  0.158027  0.0  0.0  0.00000  0.0  0.0  0.156535  0.0   \n",
              "\n",
              "            ...  990  991  992  993  994  995  996       997       998  999  \n",
              "Perfume_ID  ...                                                              \n",
              "0           ...  0.0  0.0  0.0  0.0  0.0  0.0  0.0  0.000000  0.000000  0.0  \n",
              "1           ...  0.0  0.0  0.0  0.0  0.0  0.0  0.0  0.000000  0.420657  0.0  \n",
              "2           ...  0.0  0.0  0.0  0.0  0.0  0.0  0.0  0.383246  0.285174  0.0  \n",
              "3           ...  0.0  0.0  0.0  0.0  0.0  0.0  0.0  0.000000  0.000000  0.0  \n",
              "4           ...  0.0  0.0  0.0  0.0  0.0  0.0  0.0  0.000000  0.000000  0.0  \n",
              "\n",
              "[5 rows x 1000 columns]"
            ],
            "text/html": [
              "\n",
              "  <div id=\"df-e3bb8759-27c9-45b8-a2ed-7cfa46668803\" class=\"colab-df-container\">\n",
              "    <div>\n",
              "<style scoped>\n",
              "    .dataframe tbody tr th:only-of-type {\n",
              "        vertical-align: middle;\n",
              "    }\n",
              "\n",
              "    .dataframe tbody tr th {\n",
              "        vertical-align: top;\n",
              "    }\n",
              "\n",
              "    .dataframe thead th {\n",
              "        text-align: right;\n",
              "    }\n",
              "</style>\n",
              "<table border=\"1\" class=\"dataframe\">\n",
              "  <thead>\n",
              "    <tr style=\"text-align: right;\">\n",
              "      <th></th>\n",
              "      <th>0</th>\n",
              "      <th>1</th>\n",
              "      <th>2</th>\n",
              "      <th>3</th>\n",
              "      <th>4</th>\n",
              "      <th>5</th>\n",
              "      <th>6</th>\n",
              "      <th>7</th>\n",
              "      <th>8</th>\n",
              "      <th>9</th>\n",
              "      <th>...</th>\n",
              "      <th>990</th>\n",
              "      <th>991</th>\n",
              "      <th>992</th>\n",
              "      <th>993</th>\n",
              "      <th>994</th>\n",
              "      <th>995</th>\n",
              "      <th>996</th>\n",
              "      <th>997</th>\n",
              "      <th>998</th>\n",
              "      <th>999</th>\n",
              "    </tr>\n",
              "    <tr>\n",
              "      <th>Perfume_ID</th>\n",
              "      <th></th>\n",
              "      <th></th>\n",
              "      <th></th>\n",
              "      <th></th>\n",
              "      <th></th>\n",
              "      <th></th>\n",
              "      <th></th>\n",
              "      <th></th>\n",
              "      <th></th>\n",
              "      <th></th>\n",
              "      <th></th>\n",
              "      <th></th>\n",
              "      <th></th>\n",
              "      <th></th>\n",
              "      <th></th>\n",
              "      <th></th>\n",
              "      <th></th>\n",
              "      <th></th>\n",
              "      <th></th>\n",
              "      <th></th>\n",
              "      <th></th>\n",
              "    </tr>\n",
              "  </thead>\n",
              "  <tbody>\n",
              "    <tr>\n",
              "      <th>0</th>\n",
              "      <td>0.0</td>\n",
              "      <td>0.0</td>\n",
              "      <td>0.000000</td>\n",
              "      <td>0.0</td>\n",
              "      <td>0.0</td>\n",
              "      <td>0.00000</td>\n",
              "      <td>0.0</td>\n",
              "      <td>0.0</td>\n",
              "      <td>0.000000</td>\n",
              "      <td>0.0</td>\n",
              "      <td>...</td>\n",
              "      <td>0.0</td>\n",
              "      <td>0.0</td>\n",
              "      <td>0.0</td>\n",
              "      <td>0.0</td>\n",
              "      <td>0.0</td>\n",
              "      <td>0.0</td>\n",
              "      <td>0.0</td>\n",
              "      <td>0.000000</td>\n",
              "      <td>0.000000</td>\n",
              "      <td>0.0</td>\n",
              "    </tr>\n",
              "    <tr>\n",
              "      <th>1</th>\n",
              "      <td>0.0</td>\n",
              "      <td>0.0</td>\n",
              "      <td>0.000000</td>\n",
              "      <td>0.0</td>\n",
              "      <td>0.0</td>\n",
              "      <td>0.00000</td>\n",
              "      <td>0.0</td>\n",
              "      <td>0.0</td>\n",
              "      <td>0.000000</td>\n",
              "      <td>0.0</td>\n",
              "      <td>...</td>\n",
              "      <td>0.0</td>\n",
              "      <td>0.0</td>\n",
              "      <td>0.0</td>\n",
              "      <td>0.0</td>\n",
              "      <td>0.0</td>\n",
              "      <td>0.0</td>\n",
              "      <td>0.0</td>\n",
              "      <td>0.000000</td>\n",
              "      <td>0.420657</td>\n",
              "      <td>0.0</td>\n",
              "    </tr>\n",
              "    <tr>\n",
              "      <th>2</th>\n",
              "      <td>0.0</td>\n",
              "      <td>0.0</td>\n",
              "      <td>0.000000</td>\n",
              "      <td>0.0</td>\n",
              "      <td>0.0</td>\n",
              "      <td>0.22623</td>\n",
              "      <td>0.0</td>\n",
              "      <td>0.0</td>\n",
              "      <td>0.000000</td>\n",
              "      <td>0.0</td>\n",
              "      <td>...</td>\n",
              "      <td>0.0</td>\n",
              "      <td>0.0</td>\n",
              "      <td>0.0</td>\n",
              "      <td>0.0</td>\n",
              "      <td>0.0</td>\n",
              "      <td>0.0</td>\n",
              "      <td>0.0</td>\n",
              "      <td>0.383246</td>\n",
              "      <td>0.285174</td>\n",
              "      <td>0.0</td>\n",
              "    </tr>\n",
              "    <tr>\n",
              "      <th>3</th>\n",
              "      <td>0.0</td>\n",
              "      <td>0.0</td>\n",
              "      <td>0.000000</td>\n",
              "      <td>0.0</td>\n",
              "      <td>0.0</td>\n",
              "      <td>0.00000</td>\n",
              "      <td>0.0</td>\n",
              "      <td>0.0</td>\n",
              "      <td>0.000000</td>\n",
              "      <td>0.0</td>\n",
              "      <td>...</td>\n",
              "      <td>0.0</td>\n",
              "      <td>0.0</td>\n",
              "      <td>0.0</td>\n",
              "      <td>0.0</td>\n",
              "      <td>0.0</td>\n",
              "      <td>0.0</td>\n",
              "      <td>0.0</td>\n",
              "      <td>0.000000</td>\n",
              "      <td>0.000000</td>\n",
              "      <td>0.0</td>\n",
              "    </tr>\n",
              "    <tr>\n",
              "      <th>4</th>\n",
              "      <td>0.0</td>\n",
              "      <td>0.0</td>\n",
              "      <td>0.158027</td>\n",
              "      <td>0.0</td>\n",
              "      <td>0.0</td>\n",
              "      <td>0.00000</td>\n",
              "      <td>0.0</td>\n",
              "      <td>0.0</td>\n",
              "      <td>0.156535</td>\n",
              "      <td>0.0</td>\n",
              "      <td>...</td>\n",
              "      <td>0.0</td>\n",
              "      <td>0.0</td>\n",
              "      <td>0.0</td>\n",
              "      <td>0.0</td>\n",
              "      <td>0.0</td>\n",
              "      <td>0.0</td>\n",
              "      <td>0.0</td>\n",
              "      <td>0.000000</td>\n",
              "      <td>0.000000</td>\n",
              "      <td>0.0</td>\n",
              "    </tr>\n",
              "  </tbody>\n",
              "</table>\n",
              "<p>5 rows × 1000 columns</p>\n",
              "</div>\n",
              "    <div class=\"colab-df-buttons\">\n",
              "\n",
              "  <div class=\"colab-df-container\">\n",
              "    <button class=\"colab-df-convert\" onclick=\"convertToInteractive('df-e3bb8759-27c9-45b8-a2ed-7cfa46668803')\"\n",
              "            title=\"Convert this dataframe to an interactive table.\"\n",
              "            style=\"display:none;\">\n",
              "\n",
              "  <svg xmlns=\"http://www.w3.org/2000/svg\" height=\"24px\" viewBox=\"0 -960 960 960\">\n",
              "    <path d=\"M120-120v-720h720v720H120Zm60-500h600v-160H180v160Zm220 220h160v-160H400v160Zm0 220h160v-160H400v160ZM180-400h160v-160H180v160Zm440 0h160v-160H620v160ZM180-180h160v-160H180v160Zm440 0h160v-160H620v160Z\"/>\n",
              "  </svg>\n",
              "    </button>\n",
              "\n",
              "  <style>\n",
              "    .colab-df-container {\n",
              "      display:flex;\n",
              "      gap: 12px;\n",
              "    }\n",
              "\n",
              "    .colab-df-convert {\n",
              "      background-color: #E8F0FE;\n",
              "      border: none;\n",
              "      border-radius: 50%;\n",
              "      cursor: pointer;\n",
              "      display: none;\n",
              "      fill: #1967D2;\n",
              "      height: 32px;\n",
              "      padding: 0 0 0 0;\n",
              "      width: 32px;\n",
              "    }\n",
              "\n",
              "    .colab-df-convert:hover {\n",
              "      background-color: #E2EBFA;\n",
              "      box-shadow: 0px 1px 2px rgba(60, 64, 67, 0.3), 0px 1px 3px 1px rgba(60, 64, 67, 0.15);\n",
              "      fill: #174EA6;\n",
              "    }\n",
              "\n",
              "    .colab-df-buttons div {\n",
              "      margin-bottom: 4px;\n",
              "    }\n",
              "\n",
              "    [theme=dark] .colab-df-convert {\n",
              "      background-color: #3B4455;\n",
              "      fill: #D2E3FC;\n",
              "    }\n",
              "\n",
              "    [theme=dark] .colab-df-convert:hover {\n",
              "      background-color: #434B5C;\n",
              "      box-shadow: 0px 1px 3px 1px rgba(0, 0, 0, 0.15);\n",
              "      filter: drop-shadow(0px 1px 2px rgba(0, 0, 0, 0.3));\n",
              "      fill: #FFFFFF;\n",
              "    }\n",
              "  </style>\n",
              "\n",
              "    <script>\n",
              "      const buttonEl =\n",
              "        document.querySelector('#df-e3bb8759-27c9-45b8-a2ed-7cfa46668803 button.colab-df-convert');\n",
              "      buttonEl.style.display =\n",
              "        google.colab.kernel.accessAllowed ? 'block' : 'none';\n",
              "\n",
              "      async function convertToInteractive(key) {\n",
              "        const element = document.querySelector('#df-e3bb8759-27c9-45b8-a2ed-7cfa46668803');\n",
              "        const dataTable =\n",
              "          await google.colab.kernel.invokeFunction('convertToInteractive',\n",
              "                                                    [key], {});\n",
              "        if (!dataTable) return;\n",
              "\n",
              "        const docLinkHtml = 'Like what you see? Visit the ' +\n",
              "          '<a target=\"_blank\" href=https://colab.research.google.com/notebooks/data_table.ipynb>data table notebook</a>'\n",
              "          + ' to learn more about interactive tables.';\n",
              "        element.innerHTML = '';\n",
              "        dataTable['output_type'] = 'display_data';\n",
              "        await google.colab.output.renderOutput(dataTable, element);\n",
              "        const docLink = document.createElement('div');\n",
              "        docLink.innerHTML = docLinkHtml;\n",
              "        element.appendChild(docLink);\n",
              "      }\n",
              "    </script>\n",
              "  </div>\n",
              "\n",
              "\n",
              "<div id=\"df-791d47e5-f7c1-488d-bd46-e7f0f2496288\">\n",
              "  <button class=\"colab-df-quickchart\" onclick=\"quickchart('df-791d47e5-f7c1-488d-bd46-e7f0f2496288')\"\n",
              "            title=\"Suggest charts\"\n",
              "            style=\"display:none;\">\n",
              "\n",
              "<svg xmlns=\"http://www.w3.org/2000/svg\" height=\"24px\"viewBox=\"0 0 24 24\"\n",
              "     width=\"24px\">\n",
              "    <g>\n",
              "        <path d=\"M19 3H5c-1.1 0-2 .9-2 2v14c0 1.1.9 2 2 2h14c1.1 0 2-.9 2-2V5c0-1.1-.9-2-2-2zM9 17H7v-7h2v7zm4 0h-2V7h2v10zm4 0h-2v-4h2v4z\"/>\n",
              "    </g>\n",
              "</svg>\n",
              "  </button>\n",
              "\n",
              "<style>\n",
              "  .colab-df-quickchart {\n",
              "      --bg-color: #E8F0FE;\n",
              "      --fill-color: #1967D2;\n",
              "      --hover-bg-color: #E2EBFA;\n",
              "      --hover-fill-color: #174EA6;\n",
              "      --disabled-fill-color: #AAA;\n",
              "      --disabled-bg-color: #DDD;\n",
              "  }\n",
              "\n",
              "  [theme=dark] .colab-df-quickchart {\n",
              "      --bg-color: #3B4455;\n",
              "      --fill-color: #D2E3FC;\n",
              "      --hover-bg-color: #434B5C;\n",
              "      --hover-fill-color: #FFFFFF;\n",
              "      --disabled-bg-color: #3B4455;\n",
              "      --disabled-fill-color: #666;\n",
              "  }\n",
              "\n",
              "  .colab-df-quickchart {\n",
              "    background-color: var(--bg-color);\n",
              "    border: none;\n",
              "    border-radius: 50%;\n",
              "    cursor: pointer;\n",
              "    display: none;\n",
              "    fill: var(--fill-color);\n",
              "    height: 32px;\n",
              "    padding: 0;\n",
              "    width: 32px;\n",
              "  }\n",
              "\n",
              "  .colab-df-quickchart:hover {\n",
              "    background-color: var(--hover-bg-color);\n",
              "    box-shadow: 0 1px 2px rgba(60, 64, 67, 0.3), 0 1px 3px 1px rgba(60, 64, 67, 0.15);\n",
              "    fill: var(--button-hover-fill-color);\n",
              "  }\n",
              "\n",
              "  .colab-df-quickchart-complete:disabled,\n",
              "  .colab-df-quickchart-complete:disabled:hover {\n",
              "    background-color: var(--disabled-bg-color);\n",
              "    fill: var(--disabled-fill-color);\n",
              "    box-shadow: none;\n",
              "  }\n",
              "\n",
              "  .colab-df-spinner {\n",
              "    border: 2px solid var(--fill-color);\n",
              "    border-color: transparent;\n",
              "    border-bottom-color: var(--fill-color);\n",
              "    animation:\n",
              "      spin 1s steps(1) infinite;\n",
              "  }\n",
              "\n",
              "  @keyframes spin {\n",
              "    0% {\n",
              "      border-color: transparent;\n",
              "      border-bottom-color: var(--fill-color);\n",
              "      border-left-color: var(--fill-color);\n",
              "    }\n",
              "    20% {\n",
              "      border-color: transparent;\n",
              "      border-left-color: var(--fill-color);\n",
              "      border-top-color: var(--fill-color);\n",
              "    }\n",
              "    30% {\n",
              "      border-color: transparent;\n",
              "      border-left-color: var(--fill-color);\n",
              "      border-top-color: var(--fill-color);\n",
              "      border-right-color: var(--fill-color);\n",
              "    }\n",
              "    40% {\n",
              "      border-color: transparent;\n",
              "      border-right-color: var(--fill-color);\n",
              "      border-top-color: var(--fill-color);\n",
              "    }\n",
              "    60% {\n",
              "      border-color: transparent;\n",
              "      border-right-color: var(--fill-color);\n",
              "    }\n",
              "    80% {\n",
              "      border-color: transparent;\n",
              "      border-right-color: var(--fill-color);\n",
              "      border-bottom-color: var(--fill-color);\n",
              "    }\n",
              "    90% {\n",
              "      border-color: transparent;\n",
              "      border-bottom-color: var(--fill-color);\n",
              "    }\n",
              "  }\n",
              "</style>\n",
              "\n",
              "  <script>\n",
              "    async function quickchart(key) {\n",
              "      const quickchartButtonEl =\n",
              "        document.querySelector('#' + key + ' button');\n",
              "      quickchartButtonEl.disabled = true;  // To prevent multiple clicks.\n",
              "      quickchartButtonEl.classList.add('colab-df-spinner');\n",
              "      try {\n",
              "        const charts = await google.colab.kernel.invokeFunction(\n",
              "            'suggestCharts', [key], {});\n",
              "      } catch (error) {\n",
              "        console.error('Error during call to suggestCharts:', error);\n",
              "      }\n",
              "      quickchartButtonEl.classList.remove('colab-df-spinner');\n",
              "      quickchartButtonEl.classList.add('colab-df-quickchart-complete');\n",
              "    }\n",
              "    (() => {\n",
              "      let quickchartButtonEl =\n",
              "        document.querySelector('#df-791d47e5-f7c1-488d-bd46-e7f0f2496288 button');\n",
              "      quickchartButtonEl.style.display =\n",
              "        google.colab.kernel.accessAllowed ? 'block' : 'none';\n",
              "    })();\n",
              "  </script>\n",
              "</div>\n",
              "\n",
              "    </div>\n",
              "  </div>\n"
            ],
            "application/vnd.google.colaboratory.intrinsic+json": {
              "type": "dataframe",
              "variable_name": "prepared_data"
            }
          },
          "metadata": {},
          "execution_count": 10
        }
      ]
    },
    {
      "cell_type": "markdown",
      "source": [
        "**Penjelasan:**\n",
        "- Kolom `Perfume_ID` ditambahkan untuk mereferensikan setiap parfum, yang akan mempermudah dalam mencari parfum terkait selama rekomendasi.\n",
        "- Fitur yang telah digabungkan dikelompokkan menjadi DataFrame agar lebih mudah diakses dan dimanipulasi."
      ],
      "metadata": {
        "id": "mZVKdBxdqxB7"
      }
    },
    {
      "cell_type": "markdown",
      "source": [
        "### **4.4 Penghitungan Kesamaan Cosine (Cosine Similarity)**\n",
        "\n",
        "Karena kita sedang membangun sistem rekomendasi berbasis konten, kita akan mengukur kesamaan antara parfum berdasarkan deskripsi dan catatan wewangian mereka. Salah satu cara yang paling umum untuk mengukur kesamaan antar vektor fitur adalah dengan menggunakan Cosine Similarity. Cosine Similarity mengukur seberapa mirip dua vektor dengan menghitung sudut di antara keduanya. Nilai 1 berarti kedua vektor tersebut identik, dan nilai 0 berarti keduanya tidak memiliki kesamaan."
      ],
      "metadata": {
        "id": "XBKpWB48rXhY"
      }
    },
    {
      "cell_type": "code",
      "source": [
        "cosine_sim = cosine_similarity(combined_features)\n",
        "cosine_sim_df = pd.DataFrame(cosine_sim, index=data['Name'], columns=data['Name'])\n",
        "cosine_sim_df.head()"
      ],
      "metadata": {
        "colab": {
          "base_uri": "https://localhost:8080/",
          "height": 616
        },
        "id": "wbvBxc16rnbk",
        "outputId": "47a671d8-8945-4609-9d8f-f3619acb9cdf"
      },
      "execution_count": 11,
      "outputs": [
        {
          "output_type": "execute_result",
          "data": {
            "text/plain": [
              "Name                                 Tihota Eau de Parfum  Sola Parfum  \\\n",
              "Name                                                                     \n",
              "Tihota Eau de Parfum                             1.000000     0.024169   \n",
              "Sola Parfum                                      0.024169     1.000000   \n",
              "Kagiroi Parfum                                   0.014922     0.209632   \n",
              "Velvet Fantasy Eau de Parfum                     0.111819     0.030283   \n",
              "A Blvd. Called Sunset Eau de Parfum              0.111957     0.091221   \n",
              "\n",
              "Name                                 Kagiroi Parfum  \\\n",
              "Name                                                  \n",
              "Tihota Eau de Parfum                       0.014922   \n",
              "Sola Parfum                                0.209632   \n",
              "Kagiroi Parfum                             1.000000   \n",
              "Velvet Fantasy Eau de Parfum               0.027495   \n",
              "A Blvd. Called Sunset Eau de Parfum        0.017875   \n",
              "\n",
              "Name                                 Velvet Fantasy Eau de Parfum  \\\n",
              "Name                                                                \n",
              "Tihota Eau de Parfum                                     0.111819   \n",
              "Sola Parfum                                              0.030283   \n",
              "Kagiroi Parfum                                           0.027495   \n",
              "Velvet Fantasy Eau de Parfum                             1.000000   \n",
              "A Blvd. Called Sunset Eau de Parfum                      0.217213   \n",
              "\n",
              "Name                                 A Blvd. Called Sunset Eau de Parfum  \\\n",
              "Name                                                                       \n",
              "Tihota Eau de Parfum                                            0.111957   \n",
              "Sola Parfum                                                     0.091221   \n",
              "Kagiroi Parfum                                                  0.017875   \n",
              "Velvet Fantasy Eau de Parfum                                    0.217213   \n",
              "A Blvd. Called Sunset Eau de Parfum                             1.000000   \n",
              "\n",
              "Name                                 Freckled and Beautiful Eau de Parfum  \\\n",
              "Name                                                                        \n",
              "Tihota Eau de Parfum                                             0.127613   \n",
              "Sola Parfum                                                      0.027745   \n",
              "Kagiroi Parfum                                                   0.023785   \n",
              "Velvet Fantasy Eau de Parfum                                     0.127350   \n",
              "A Blvd. Called Sunset Eau de Parfum                              0.179571   \n",
              "\n",
              "Name                                 Exit the King Eau de Parfum  \\\n",
              "Name                                                               \n",
              "Tihota Eau de Parfum                                    0.030570   \n",
              "Sola Parfum                                             0.021210   \n",
              "Kagiroi Parfum                                          0.012469   \n",
              "Velvet Fantasy Eau de Parfum                            0.179485   \n",
              "A Blvd. Called Sunset Eau de Parfum                     0.129379   \n",
              "\n",
              "Name                                 Eshu Extrait  Saringkarn Extrait  \\\n",
              "Name                                                                    \n",
              "Tihota Eau de Parfum                     0.013209            0.033740   \n",
              "Sola Parfum                              0.029095            0.034598   \n",
              "Kagiroi Parfum                           0.053437            0.091332   \n",
              "Velvet Fantasy Eau de Parfum             0.124008            0.111796   \n",
              "A Blvd. Called Sunset Eau de Parfum      0.015254            0.099436   \n",
              "\n",
              "Name                                 Arsalan Parfum  ...  \\\n",
              "Name                                                 ...   \n",
              "Tihota Eau de Parfum                       0.012014  ...   \n",
              "Sola Parfum                                0.020939  ...   \n",
              "Kagiroi Parfum                             0.054614  ...   \n",
              "Velvet Fantasy Eau de Parfum               0.096707  ...   \n",
              "A Blvd. Called Sunset Eau de Parfum        0.089880  ...   \n",
              "\n",
              "Name                                 Dzing! Eau de Toilette  \\\n",
              "Name                                                          \n",
              "Tihota Eau de Parfum                               0.015787   \n",
              "Sola Parfum                                        0.000000   \n",
              "Kagiroi Parfum                                     0.010606   \n",
              "Velvet Fantasy Eau de Parfum                       0.041038   \n",
              "A Blvd. Called Sunset Eau de Parfum                0.076138   \n",
              "\n",
              "Name                                 Perfect Nectar Eau de Parfum  \\\n",
              "Name                                                                \n",
              "Tihota Eau de Parfum                                     0.005229   \n",
              "Sola Parfum                                              0.041987   \n",
              "Kagiroi Parfum                                           0.241638   \n",
              "Velvet Fantasy Eau de Parfum                             0.121075   \n",
              "A Blvd. Called Sunset Eau de Parfum                      0.037959   \n",
              "\n",
              "Name                                 Coquette tropique  \\\n",
              "Name                                                     \n",
              "Tihota Eau de Parfum                          0.085615   \n",
              "Sola Parfum                                   0.040546   \n",
              "Kagiroi Parfum                                0.055208   \n",
              "Velvet Fantasy Eau de Parfum                  0.062400   \n",
              "A Blvd. Called Sunset Eau de Parfum           0.048209   \n",
              "\n",
              "Name                                 Kai - Perfume Oil Roll-on Perfume Oil  \\\n",
              "Name                                                                         \n",
              "Tihota Eau de Parfum                                              0.020476   \n",
              "Sola Parfum                                                       0.000000   \n",
              "Kagiroi Parfum                                                    0.009740   \n",
              "Velvet Fantasy Eau de Parfum                                      0.042875   \n",
              "A Blvd. Called Sunset Eau de Parfum                               0.036727   \n",
              "\n",
              "Name                                 To twirl all girly Perfume Oil Roll-on Perfume Oil  \\\n",
              "Name                                                                                      \n",
              "Tihota Eau de Parfum                                                          0.040044    \n",
              "Sola Parfum                                                                   0.023208    \n",
              "Kagiroi Parfum                                                                0.019582    \n",
              "Velvet Fantasy Eau de Parfum                                                  0.037401    \n",
              "A Blvd. Called Sunset Eau de Parfum                                           0.047841    \n",
              "\n",
              "Name                                 Perfect Veil Eau de Parfum  \\\n",
              "Name                                                              \n",
              "Tihota Eau de Parfum                                   0.080872   \n",
              "Sola Parfum                                            0.000000   \n",
              "Kagiroi Parfum                                         0.012723   \n",
              "Velvet Fantasy Eau de Parfum                           0.105744   \n",
              "A Blvd. Called Sunset Eau de Parfum                    0.194213   \n",
              "\n",
              "Name                                 Scent Eau de Parfum  \\\n",
              "Name                                                       \n",
              "Tihota Eau de Parfum                            0.016102   \n",
              "Sola Parfum                                     0.061323   \n",
              "Kagiroi Parfum                                  0.056614   \n",
              "Velvet Fantasy Eau de Parfum                    0.080744   \n",
              "A Blvd. Called Sunset Eau de Parfum             0.083349   \n",
              "\n",
              "Name                                 Bronze Eau de Parfum  \\\n",
              "Name                                                        \n",
              "Tihota Eau de Parfum                             0.102079   \n",
              "Sola Parfum                                      0.045601   \n",
              "Kagiroi Parfum                                   0.061414   \n",
              "Velvet Fantasy Eau de Parfum                     0.101150   \n",
              "A Blvd. Called Sunset Eau de Parfum              0.114693   \n",
              "\n",
              "Name                                 Monyette Paris Fragrance Oil  \\\n",
              "Name                                                                \n",
              "Tihota Eau de Parfum                                     0.112348   \n",
              "Sola Parfum                                              0.007768   \n",
              "Kagiroi Parfum                                           0.016462   \n",
              "Velvet Fantasy Eau de Parfum                             0.077438   \n",
              "A Blvd. Called Sunset Eau de Parfum                      0.067729   \n",
              "\n",
              "Name                                 1270 Eau de Parfum  \n",
              "Name                                                     \n",
              "Tihota Eau de Parfum                           0.030492  \n",
              "Sola Parfum                                    0.036422  \n",
              "Kagiroi Parfum                                 0.020610  \n",
              "Velvet Fantasy Eau de Parfum                   0.162733  \n",
              "A Blvd. Called Sunset Eau de Parfum            0.071616  \n",
              "\n",
              "[5 rows x 2191 columns]"
            ],
            "text/html": [
              "\n",
              "  <div id=\"df-daf6edf0-39d9-4d0a-872f-c2dde2837877\" class=\"colab-df-container\">\n",
              "    <div>\n",
              "<style scoped>\n",
              "    .dataframe tbody tr th:only-of-type {\n",
              "        vertical-align: middle;\n",
              "    }\n",
              "\n",
              "    .dataframe tbody tr th {\n",
              "        vertical-align: top;\n",
              "    }\n",
              "\n",
              "    .dataframe thead th {\n",
              "        text-align: right;\n",
              "    }\n",
              "</style>\n",
              "<table border=\"1\" class=\"dataframe\">\n",
              "  <thead>\n",
              "    <tr style=\"text-align: right;\">\n",
              "      <th>Name</th>\n",
              "      <th>Tihota Eau de Parfum</th>\n",
              "      <th>Sola Parfum</th>\n",
              "      <th>Kagiroi Parfum</th>\n",
              "      <th>Velvet Fantasy Eau de Parfum</th>\n",
              "      <th>A Blvd. Called Sunset Eau de Parfum</th>\n",
              "      <th>Freckled and Beautiful Eau de Parfum</th>\n",
              "      <th>Exit the King Eau de Parfum</th>\n",
              "      <th>Eshu Extrait</th>\n",
              "      <th>Saringkarn Extrait</th>\n",
              "      <th>Arsalan Parfum</th>\n",
              "      <th>...</th>\n",
              "      <th>Dzing! Eau de Toilette</th>\n",
              "      <th>Perfect Nectar Eau de Parfum</th>\n",
              "      <th>Coquette tropique</th>\n",
              "      <th>Kai - Perfume Oil Roll-on Perfume Oil</th>\n",
              "      <th>To twirl all girly Perfume Oil Roll-on Perfume Oil</th>\n",
              "      <th>Perfect Veil Eau de Parfum</th>\n",
              "      <th>Scent Eau de Parfum</th>\n",
              "      <th>Bronze Eau de Parfum</th>\n",
              "      <th>Monyette Paris Fragrance Oil</th>\n",
              "      <th>1270 Eau de Parfum</th>\n",
              "    </tr>\n",
              "    <tr>\n",
              "      <th>Name</th>\n",
              "      <th></th>\n",
              "      <th></th>\n",
              "      <th></th>\n",
              "      <th></th>\n",
              "      <th></th>\n",
              "      <th></th>\n",
              "      <th></th>\n",
              "      <th></th>\n",
              "      <th></th>\n",
              "      <th></th>\n",
              "      <th></th>\n",
              "      <th></th>\n",
              "      <th></th>\n",
              "      <th></th>\n",
              "      <th></th>\n",
              "      <th></th>\n",
              "      <th></th>\n",
              "      <th></th>\n",
              "      <th></th>\n",
              "      <th></th>\n",
              "      <th></th>\n",
              "    </tr>\n",
              "  </thead>\n",
              "  <tbody>\n",
              "    <tr>\n",
              "      <th>Tihota Eau de Parfum</th>\n",
              "      <td>1.000000</td>\n",
              "      <td>0.024169</td>\n",
              "      <td>0.014922</td>\n",
              "      <td>0.111819</td>\n",
              "      <td>0.111957</td>\n",
              "      <td>0.127613</td>\n",
              "      <td>0.030570</td>\n",
              "      <td>0.013209</td>\n",
              "      <td>0.033740</td>\n",
              "      <td>0.012014</td>\n",
              "      <td>...</td>\n",
              "      <td>0.015787</td>\n",
              "      <td>0.005229</td>\n",
              "      <td>0.085615</td>\n",
              "      <td>0.020476</td>\n",
              "      <td>0.040044</td>\n",
              "      <td>0.080872</td>\n",
              "      <td>0.016102</td>\n",
              "      <td>0.102079</td>\n",
              "      <td>0.112348</td>\n",
              "      <td>0.030492</td>\n",
              "    </tr>\n",
              "    <tr>\n",
              "      <th>Sola Parfum</th>\n",
              "      <td>0.024169</td>\n",
              "      <td>1.000000</td>\n",
              "      <td>0.209632</td>\n",
              "      <td>0.030283</td>\n",
              "      <td>0.091221</td>\n",
              "      <td>0.027745</td>\n",
              "      <td>0.021210</td>\n",
              "      <td>0.029095</td>\n",
              "      <td>0.034598</td>\n",
              "      <td>0.020939</td>\n",
              "      <td>...</td>\n",
              "      <td>0.000000</td>\n",
              "      <td>0.041987</td>\n",
              "      <td>0.040546</td>\n",
              "      <td>0.000000</td>\n",
              "      <td>0.023208</td>\n",
              "      <td>0.000000</td>\n",
              "      <td>0.061323</td>\n",
              "      <td>0.045601</td>\n",
              "      <td>0.007768</td>\n",
              "      <td>0.036422</td>\n",
              "    </tr>\n",
              "    <tr>\n",
              "      <th>Kagiroi Parfum</th>\n",
              "      <td>0.014922</td>\n",
              "      <td>0.209632</td>\n",
              "      <td>1.000000</td>\n",
              "      <td>0.027495</td>\n",
              "      <td>0.017875</td>\n",
              "      <td>0.023785</td>\n",
              "      <td>0.012469</td>\n",
              "      <td>0.053437</td>\n",
              "      <td>0.091332</td>\n",
              "      <td>0.054614</td>\n",
              "      <td>...</td>\n",
              "      <td>0.010606</td>\n",
              "      <td>0.241638</td>\n",
              "      <td>0.055208</td>\n",
              "      <td>0.009740</td>\n",
              "      <td>0.019582</td>\n",
              "      <td>0.012723</td>\n",
              "      <td>0.056614</td>\n",
              "      <td>0.061414</td>\n",
              "      <td>0.016462</td>\n",
              "      <td>0.020610</td>\n",
              "    </tr>\n",
              "    <tr>\n",
              "      <th>Velvet Fantasy Eau de Parfum</th>\n",
              "      <td>0.111819</td>\n",
              "      <td>0.030283</td>\n",
              "      <td>0.027495</td>\n",
              "      <td>1.000000</td>\n",
              "      <td>0.217213</td>\n",
              "      <td>0.127350</td>\n",
              "      <td>0.179485</td>\n",
              "      <td>0.124008</td>\n",
              "      <td>0.111796</td>\n",
              "      <td>0.096707</td>\n",
              "      <td>...</td>\n",
              "      <td>0.041038</td>\n",
              "      <td>0.121075</td>\n",
              "      <td>0.062400</td>\n",
              "      <td>0.042875</td>\n",
              "      <td>0.037401</td>\n",
              "      <td>0.105744</td>\n",
              "      <td>0.080744</td>\n",
              "      <td>0.101150</td>\n",
              "      <td>0.077438</td>\n",
              "      <td>0.162733</td>\n",
              "    </tr>\n",
              "    <tr>\n",
              "      <th>A Blvd. Called Sunset Eau de Parfum</th>\n",
              "      <td>0.111957</td>\n",
              "      <td>0.091221</td>\n",
              "      <td>0.017875</td>\n",
              "      <td>0.217213</td>\n",
              "      <td>1.000000</td>\n",
              "      <td>0.179571</td>\n",
              "      <td>0.129379</td>\n",
              "      <td>0.015254</td>\n",
              "      <td>0.099436</td>\n",
              "      <td>0.089880</td>\n",
              "      <td>...</td>\n",
              "      <td>0.076138</td>\n",
              "      <td>0.037959</td>\n",
              "      <td>0.048209</td>\n",
              "      <td>0.036727</td>\n",
              "      <td>0.047841</td>\n",
              "      <td>0.194213</td>\n",
              "      <td>0.083349</td>\n",
              "      <td>0.114693</td>\n",
              "      <td>0.067729</td>\n",
              "      <td>0.071616</td>\n",
              "    </tr>\n",
              "  </tbody>\n",
              "</table>\n",
              "<p>5 rows × 2191 columns</p>\n",
              "</div>\n",
              "    <div class=\"colab-df-buttons\">\n",
              "\n",
              "  <div class=\"colab-df-container\">\n",
              "    <button class=\"colab-df-convert\" onclick=\"convertToInteractive('df-daf6edf0-39d9-4d0a-872f-c2dde2837877')\"\n",
              "            title=\"Convert this dataframe to an interactive table.\"\n",
              "            style=\"display:none;\">\n",
              "\n",
              "  <svg xmlns=\"http://www.w3.org/2000/svg\" height=\"24px\" viewBox=\"0 -960 960 960\">\n",
              "    <path d=\"M120-120v-720h720v720H120Zm60-500h600v-160H180v160Zm220 220h160v-160H400v160Zm0 220h160v-160H400v160ZM180-400h160v-160H180v160Zm440 0h160v-160H620v160ZM180-180h160v-160H180v160Zm440 0h160v-160H620v160Z\"/>\n",
              "  </svg>\n",
              "    </button>\n",
              "\n",
              "  <style>\n",
              "    .colab-df-container {\n",
              "      display:flex;\n",
              "      gap: 12px;\n",
              "    }\n",
              "\n",
              "    .colab-df-convert {\n",
              "      background-color: #E8F0FE;\n",
              "      border: none;\n",
              "      border-radius: 50%;\n",
              "      cursor: pointer;\n",
              "      display: none;\n",
              "      fill: #1967D2;\n",
              "      height: 32px;\n",
              "      padding: 0 0 0 0;\n",
              "      width: 32px;\n",
              "    }\n",
              "\n",
              "    .colab-df-convert:hover {\n",
              "      background-color: #E2EBFA;\n",
              "      box-shadow: 0px 1px 2px rgba(60, 64, 67, 0.3), 0px 1px 3px 1px rgba(60, 64, 67, 0.15);\n",
              "      fill: #174EA6;\n",
              "    }\n",
              "\n",
              "    .colab-df-buttons div {\n",
              "      margin-bottom: 4px;\n",
              "    }\n",
              "\n",
              "    [theme=dark] .colab-df-convert {\n",
              "      background-color: #3B4455;\n",
              "      fill: #D2E3FC;\n",
              "    }\n",
              "\n",
              "    [theme=dark] .colab-df-convert:hover {\n",
              "      background-color: #434B5C;\n",
              "      box-shadow: 0px 1px 3px 1px rgba(0, 0, 0, 0.15);\n",
              "      filter: drop-shadow(0px 1px 2px rgba(0, 0, 0, 0.3));\n",
              "      fill: #FFFFFF;\n",
              "    }\n",
              "  </style>\n",
              "\n",
              "    <script>\n",
              "      const buttonEl =\n",
              "        document.querySelector('#df-daf6edf0-39d9-4d0a-872f-c2dde2837877 button.colab-df-convert');\n",
              "      buttonEl.style.display =\n",
              "        google.colab.kernel.accessAllowed ? 'block' : 'none';\n",
              "\n",
              "      async function convertToInteractive(key) {\n",
              "        const element = document.querySelector('#df-daf6edf0-39d9-4d0a-872f-c2dde2837877');\n",
              "        const dataTable =\n",
              "          await google.colab.kernel.invokeFunction('convertToInteractive',\n",
              "                                                    [key], {});\n",
              "        if (!dataTable) return;\n",
              "\n",
              "        const docLinkHtml = 'Like what you see? Visit the ' +\n",
              "          '<a target=\"_blank\" href=https://colab.research.google.com/notebooks/data_table.ipynb>data table notebook</a>'\n",
              "          + ' to learn more about interactive tables.';\n",
              "        element.innerHTML = '';\n",
              "        dataTable['output_type'] = 'display_data';\n",
              "        await google.colab.output.renderOutput(dataTable, element);\n",
              "        const docLink = document.createElement('div');\n",
              "        docLink.innerHTML = docLinkHtml;\n",
              "        element.appendChild(docLink);\n",
              "      }\n",
              "    </script>\n",
              "  </div>\n",
              "\n",
              "\n",
              "<div id=\"df-a42a7e2b-5e00-40fc-8d41-00cd68efc946\">\n",
              "  <button class=\"colab-df-quickchart\" onclick=\"quickchart('df-a42a7e2b-5e00-40fc-8d41-00cd68efc946')\"\n",
              "            title=\"Suggest charts\"\n",
              "            style=\"display:none;\">\n",
              "\n",
              "<svg xmlns=\"http://www.w3.org/2000/svg\" height=\"24px\"viewBox=\"0 0 24 24\"\n",
              "     width=\"24px\">\n",
              "    <g>\n",
              "        <path d=\"M19 3H5c-1.1 0-2 .9-2 2v14c0 1.1.9 2 2 2h14c1.1 0 2-.9 2-2V5c0-1.1-.9-2-2-2zM9 17H7v-7h2v7zm4 0h-2V7h2v10zm4 0h-2v-4h2v4z\"/>\n",
              "    </g>\n",
              "</svg>\n",
              "  </button>\n",
              "\n",
              "<style>\n",
              "  .colab-df-quickchart {\n",
              "      --bg-color: #E8F0FE;\n",
              "      --fill-color: #1967D2;\n",
              "      --hover-bg-color: #E2EBFA;\n",
              "      --hover-fill-color: #174EA6;\n",
              "      --disabled-fill-color: #AAA;\n",
              "      --disabled-bg-color: #DDD;\n",
              "  }\n",
              "\n",
              "  [theme=dark] .colab-df-quickchart {\n",
              "      --bg-color: #3B4455;\n",
              "      --fill-color: #D2E3FC;\n",
              "      --hover-bg-color: #434B5C;\n",
              "      --hover-fill-color: #FFFFFF;\n",
              "      --disabled-bg-color: #3B4455;\n",
              "      --disabled-fill-color: #666;\n",
              "  }\n",
              "\n",
              "  .colab-df-quickchart {\n",
              "    background-color: var(--bg-color);\n",
              "    border: none;\n",
              "    border-radius: 50%;\n",
              "    cursor: pointer;\n",
              "    display: none;\n",
              "    fill: var(--fill-color);\n",
              "    height: 32px;\n",
              "    padding: 0;\n",
              "    width: 32px;\n",
              "  }\n",
              "\n",
              "  .colab-df-quickchart:hover {\n",
              "    background-color: var(--hover-bg-color);\n",
              "    box-shadow: 0 1px 2px rgba(60, 64, 67, 0.3), 0 1px 3px 1px rgba(60, 64, 67, 0.15);\n",
              "    fill: var(--button-hover-fill-color);\n",
              "  }\n",
              "\n",
              "  .colab-df-quickchart-complete:disabled,\n",
              "  .colab-df-quickchart-complete:disabled:hover {\n",
              "    background-color: var(--disabled-bg-color);\n",
              "    fill: var(--disabled-fill-color);\n",
              "    box-shadow: none;\n",
              "  }\n",
              "\n",
              "  .colab-df-spinner {\n",
              "    border: 2px solid var(--fill-color);\n",
              "    border-color: transparent;\n",
              "    border-bottom-color: var(--fill-color);\n",
              "    animation:\n",
              "      spin 1s steps(1) infinite;\n",
              "  }\n",
              "\n",
              "  @keyframes spin {\n",
              "    0% {\n",
              "      border-color: transparent;\n",
              "      border-bottom-color: var(--fill-color);\n",
              "      border-left-color: var(--fill-color);\n",
              "    }\n",
              "    20% {\n",
              "      border-color: transparent;\n",
              "      border-left-color: var(--fill-color);\n",
              "      border-top-color: var(--fill-color);\n",
              "    }\n",
              "    30% {\n",
              "      border-color: transparent;\n",
              "      border-left-color: var(--fill-color);\n",
              "      border-top-color: var(--fill-color);\n",
              "      border-right-color: var(--fill-color);\n",
              "    }\n",
              "    40% {\n",
              "      border-color: transparent;\n",
              "      border-right-color: var(--fill-color);\n",
              "      border-top-color: var(--fill-color);\n",
              "    }\n",
              "    60% {\n",
              "      border-color: transparent;\n",
              "      border-right-color: var(--fill-color);\n",
              "    }\n",
              "    80% {\n",
              "      border-color: transparent;\n",
              "      border-right-color: var(--fill-color);\n",
              "      border-bottom-color: var(--fill-color);\n",
              "    }\n",
              "    90% {\n",
              "      border-color: transparent;\n",
              "      border-bottom-color: var(--fill-color);\n",
              "    }\n",
              "  }\n",
              "</style>\n",
              "\n",
              "  <script>\n",
              "    async function quickchart(key) {\n",
              "      const quickchartButtonEl =\n",
              "        document.querySelector('#' + key + ' button');\n",
              "      quickchartButtonEl.disabled = true;  // To prevent multiple clicks.\n",
              "      quickchartButtonEl.classList.add('colab-df-spinner');\n",
              "      try {\n",
              "        const charts = await google.colab.kernel.invokeFunction(\n",
              "            'suggestCharts', [key], {});\n",
              "      } catch (error) {\n",
              "        console.error('Error during call to suggestCharts:', error);\n",
              "      }\n",
              "      quickchartButtonEl.classList.remove('colab-df-spinner');\n",
              "      quickchartButtonEl.classList.add('colab-df-quickchart-complete');\n",
              "    }\n",
              "    (() => {\n",
              "      let quickchartButtonEl =\n",
              "        document.querySelector('#df-a42a7e2b-5e00-40fc-8d41-00cd68efc946 button');\n",
              "      quickchartButtonEl.style.display =\n",
              "        google.colab.kernel.accessAllowed ? 'block' : 'none';\n",
              "    })();\n",
              "  </script>\n",
              "</div>\n",
              "\n",
              "    </div>\n",
              "  </div>\n"
            ],
            "application/vnd.google.colaboratory.intrinsic+json": {
              "type": "dataframe",
              "variable_name": "cosine_sim_df"
            }
          },
          "metadata": {},
          "execution_count": 11
        }
      ]
    },
    {
      "cell_type": "markdown",
      "source": [
        "**Penjelasan:**\n",
        "- Cosine Similarity dihitung antar parfum berdasarkan fitur gabungan dari kolom Description dan Notes.\n",
        "- Hasilnya disusun dalam DataFrame yang memungkinkan kita untuk dengan mudah mengidentifikasi parfum yang serupa satu sama lain berdasarkan kesamaan fitur."
      ],
      "metadata": {
        "id": "DJLOggeUruu5"
      }
    },
    {
      "cell_type": "markdown",
      "source": [
        "## **5. Modeling and Result**\n",
        "\n",
        "Pada bagian ini, kita akan membangun model rekomendasi dengan content based filtering menggunakan matriks kesamaan (cosine similarity) yang telah dihitung sebelumnya. Model ini akan merekomendasikan parfum berdasarkan deskripsi dan catatan wewangian yang serupa. Proses ini mencakup penerapan cosine similarity untuk menghitung kesamaan antara parfum dan menampilkan hasil rekomendasi untuk pengguna."
      ],
      "metadata": {
        "id": "XTUF2sYDr5no"
      }
    },
    {
      "cell_type": "markdown",
      "source": [
        "### **5.1 Pembangunan Model Rekomendasi**\n",
        "\n",
        "Model rekomendasi dengan content based filtering ini didasarkan pada **Cosine Similarity**, yang mengukur kesamaan antara parfum berdasarkan deskripsi dan catatan wewangian mereka. Untuk membuat rekomendasi, kita akan memilih parfum yang memiliki kesamaan tertinggi dengan parfum yang dipilih pengguna. Berikut adalah langkah-langkah yang dilakukan:\n",
        "\n",
        "1. **Memilih Parfum sebagai Input**: Pengguna memilih parfum yang ingin mereka cari rekomendasinya.\n",
        "2. **Menghitung Kesamaan**: Untuk parfum yang dipilih, kita akan mencari parfum lain yang memiliki kesamaan tertinggi berdasarkan matriks cosine similarity.\n",
        "3. **Menampilkan Top-N Rekomendasi**: Menampilkan 5 parfum teratas yang paling mirip dengan parfum yang dipilih."
      ],
      "metadata": {
        "id": "r5DWvwbRsIRU"
      }
    },
    {
      "cell_type": "code",
      "source": [
        "def get_recommendations(perfume_name, cosine_sim_df, top_n=5):\n",
        "    perfume_idx = cosine_sim_df.index.get_loc(perfume_name)\n",
        "    sim_scores = list(enumerate(cosine_sim_df.iloc[perfume_idx]))\n",
        "    sim_scores = sorted(sim_scores, key=lambda x: x[1], reverse=True)\n",
        "    sim_scores = sim_scores[1:top_n+1]\n",
        "\n",
        "    recommended_perfumes = [(cosine_sim_df.index[i], score) for i, score in sim_scores]\n",
        "    return recommended_perfumes"
      ],
      "metadata": {
        "id": "GanXpOF0rtSk"
      },
      "execution_count": 12,
      "outputs": []
    },
    {
      "cell_type": "code",
      "source": [
        "perfume_name = '  '\n",
        "recommendations = get_recommendations(perfume_name, cosine_sim_df, top_n=5)\n",
        "recommendations"
      ],
      "metadata": {
        "colab": {
          "base_uri": "https://localhost:8080/"
        },
        "id": "NwMc011NPPP8",
        "outputId": "5c64bebc-fcf8-472d-dbc6-d904a8f0e735"
      },
      "execution_count": 13,
      "outputs": [
        {
          "output_type": "execute_result",
          "data": {
            "text/plain": [
              "[('Muskara Phero J Eau de Parfum', 0.3775375399005194),\n",
              " ('Vanille Noire du Mexique Eau de Toilette', 0.34181849964519195),\n",
              " ('Vanille Tonka Eau de Parfum', 0.3369550836293488),\n",
              " ('Vanille Absolu Eau de Parfum', 0.33018550252518825),\n",
              " ('Insulo Parfum Extrait', 0.3048400074982982)]"
            ]
          },
          "metadata": {},
          "execution_count": 13
        }
      ]
    },
    {
      "cell_type": "markdown",
      "source": [
        "**Penjelasan:**\n",
        "- Fungsi **get_recommendations()** digunakan untuk menerima nama parfum yang dipilih oleh pengguna dan memberikan daftar **Top-N parfum** yang paling mirip berdasarkan cosine similarity.\n",
        "- Kita mengambil indeks dari parfum yang dipilih, menghitung kesamaan dengan parfum lainnya, mengurutkan hasilnya, dan menampilkan 5 rekomendasi parfum yang paling mirip."
      ],
      "metadata": {
        "id": "nv1QkmaZs4fu"
      }
    },
    {
      "cell_type": "markdown",
      "source": [
        "### **5.2 Hasil Rekomendasi**\n",
        "\n",
        "Untuk memberikan gambaran yang lebih jelas, berikut adalah contoh hasil rekomendasi untuk parfum yang dipilih, yaitu **\"Tihota Eau de Parfum\"**."
      ],
      "metadata": {
        "id": "yw-l-G5Ss7qb"
      }
    },
    {
      "cell_type": "code",
      "source": [
        "for idx, (name, score) in enumerate(recommendations):\n",
        "    print(f\"Recommendation {idx+1}: {name} with similarity score: {score:.4f}\")"
      ],
      "metadata": {
        "colab": {
          "base_uri": "https://localhost:8080/"
        },
        "id": "LFcLHe5Is9_d",
        "outputId": "2159e1f7-6386-4484-c6a6-a4a457d30388"
      },
      "execution_count": 14,
      "outputs": [
        {
          "output_type": "stream",
          "name": "stdout",
          "text": [
            "Recommendation 1: Muskara Phero J Eau de Parfum with similarity score: 0.3775\n",
            "Recommendation 2: Vanille Noire du Mexique Eau de Toilette with similarity score: 0.3418\n",
            "Recommendation 3: Vanille Tonka Eau de Parfum with similarity score: 0.3370\n",
            "Recommendation 4: Vanille Absolu Eau de Parfum with similarity score: 0.3302\n",
            "Recommendation 5: Insulo Parfum Extrait with similarity score: 0.3048\n"
          ]
        }
      ]
    },
    {
      "cell_type": "markdown",
      "source": [
        "**Penjelasan:**\n",
        "- Hasil di atas menunjukkan 5 parfum teratas yang paling mirip dengan **Tihota Eau de Parfum**, yang telah dihitung berdasarkan **Cosine Similarity**.\n",
        "- Setiap parfum memiliki skor kesamaan yang menunjukkan seberapa mirip parfum tersebut dengan yang dipilih. Skor mendekati 1 menunjukkan kesamaan yang sangat tinggi, sementara skor yang lebih rendah menunjukkan kesamaan yang lebih rendah.\n",
        "\n",
        "Model rekomendasi dengan content based filtering ini memberikan hasil yang dapat digunakan untuk meningkatkan pengalaman pengguna dengan memberikan saran parfum yang serupa dengan preferensi mereka. Hasil rekomendasi yang diberikan sangat tergantung pada fitur yang digunakan, yaitu deskripsi dan catatan wewangian parfum.\n"
      ],
      "metadata": {
        "id": "LB8WCpBOtHjp"
      }
    },
    {
      "cell_type": "markdown",
      "source": [
        "### **5.3 Kelebihan dan Kekurangan Model**\n",
        "\n",
        "- **Kelebihan**:\n",
        "  - Model rekomendasi dengan content based filtering ini dapat memberikan rekomendasi yang sangat relevan berdasarkan deskripsi dan catatan wewangian parfum.\n",
        "  - Sistem ini tidak memerlukan data pengguna atau interaksi sebelumnya, sehingga dapat bekerja untuk pengguna baru (cold-start problem).\n",
        "\n",
        "- **Kekurangan**:\n",
        "  - Model rekomendasi dengan content based filtering hanya mengandalkan informasi dari deskripsi dan catatan wewangian, tanpa mempertimbangkan preferensi atau perilaku pengguna sebelumnya.\n",
        "  - Rekomendasi yang dihasilkan mungkin tidak cukup beragam atau inovatif jika deskripsi dan catatan wewangian parfum sangat mirip satu sama lain."
      ],
      "metadata": {
        "id": "WCNB1QGftYqq"
      }
    },
    {
      "cell_type": "markdown",
      "source": [
        "## **6. Evaluation**\n",
        "\n",
        "Evaluasi adalah tahap penting dalam membangun sistem rekomendasi, untuk mengukur sejauh mana sistem yang dibangun dapat memberikan rekomendasi yang relevan dan akurat. Dalam proyek ini, kita mengimplementasikan Content-Based Filtering untuk merekomendasikan parfum berdasarkan kemiripan deskripsi dan catatan wewangian. Untuk mengevaluasi kinerja sistem rekomendasi ini, kita akan menggunakan metrik Precision at K.\n",
        "\n",
        "\n",
        "Precision at K adalah metrik yang mengukur persentase item relevan di dalam K rekomendasi teratas yang diberikan oleh sistem. Precision at K sangat penting dalam sistem rekomendasi berbasis konten karena kita ingin tahu seberapa banyak rekomendasi yang diberikan sesuai dengan preferensi pengguna, dalam hal ini, relevansi parfum yang disarankan.\n",
        "\n",
        "\n",
        "**Formula Precision at K:**\n",
        "$$\n",
        "\\text{Precision@K} = \\frac{\\text{Jumlah rekomendasi relevan di Top K}}{K}\n",
        "$$\n",
        "\n",
        "\n",
        "Rekomendasi dikategorikan relevan jika kesamaan antara parfum yang disarankan dan parfum yang diuji lebih tinggi dari ambang batas tertentu (misalnya, 0.3).\n",
        "\n",
        "\n",
        "Untuk mengukur **Precision at K**, kita akan mengambil 200 parfum secara acak sebagai contoh dan menghitung seberapa relevan 5 rekomendasi teratas yang diberikan sistem. Kita anggap bahwa parfum yang memiliki skor kesamaan yang lebih tinggi dengan parfum yang diuji, dalam hal ini adalah 0.3 adalah relevan.\n"
      ],
      "metadata": {
        "id": "NcjEwDzAuEBB"
      }
    },
    {
      "cell_type": "code",
      "source": [
        "def calculate_precision_at_k(perfume_name, cosine_sim_df, k=5, threshold=0.3):\n",
        "    recommendations = get_recommendations(perfume_name, cosine_sim_df, top_n=k)\n",
        "    relevant_recommendations = sum([1 for _, score in recommendations if isinstance(score, (int, float)) and float(score) > threshold])\n",
        "    precision_at_k = relevant_recommendations / k\n",
        "    return precision_at_k\n",
        "\n",
        "test_perfumes = data['Name'].sample(n=200, random_state=0).tolist()  # Ambil 200 parfum secara acak"
      ],
      "metadata": {
        "id": "10Linv-9_FIM"
      },
      "execution_count": 15,
      "outputs": []
    },
    {
      "cell_type": "markdown",
      "source": [
        "**Penjelasan:**\n",
        "- Fungsi `calculate_precision_at_k()` digunakan untuk menghitung Precision at K berdasarkan nilai k 5, 10 dan 20 dari k rekomendasi teratas yang diberikan oleh sistem untuk setiap parfum. Dalam hal ini, jumlah data yang dihitung Precision at K adalah 200 data yang diambil secara acak dari dataset.\n",
        "- Rekomendasi dianggap relevan jika skor kesamaannya lebih tinggi dari threshold 0.3, yang dapat disesuaikan berdasarkan preferensi sistem."
      ],
      "metadata": {
        "id": "LZG0RklZvOJH"
      }
    },
    {
      "cell_type": "markdown",
      "source": [
        "### 6.1 Evaluasi Hasil Untuk K=5:"
      ],
      "metadata": {
        "id": "MLtp5vXbRFkW"
      }
    },
    {
      "cell_type": "code",
      "source": [
        "precisions = {perfume: calculate_precision_at_k(perfume, cosine_sim_df, k=5) for perfume in test_perfumes}\n",
        "precision_values = list(precisions.values())\n",
        "sns.set(style=\"whitegrid\")\n",
        "\n",
        "ax = sns.barplot(x=list(set(precision_values)),\n",
        "                 y=[precision_values.count(x) for x in set(precision_values)],\n",
        "                 palette=\"viridis\")\n",
        "\n",
        "for p in ax.patches:\n",
        "    height = p.get_height()\n",
        "    ax.text(p.get_x() + p.get_width() / 2., height,\n",
        "            f'{int(height)}',\n",
        "            ha='center', va='bottom', fontsize=12, color='black')\n",
        "\n",
        "plt.xlabel('Precision@K')\n",
        "plt.ylabel('Frekuensi')\n",
        "plt.title('Distribusi Precision@K untuk K=5')\n",
        "plt.show()"
      ],
      "metadata": {
        "colab": {
          "base_uri": "https://localhost:8080/",
          "height": 587
        },
        "id": "7bEhYMn57qCh",
        "outputId": "9d6eb0f4-4aba-4532-8d02-e182e46210f6"
      },
      "execution_count": 16,
      "outputs": [
        {
          "output_type": "stream",
          "name": "stderr",
          "text": [
            "<ipython-input-16-0b205cf57c2c>:5: FutureWarning: \n",
            "\n",
            "Passing `palette` without assigning `hue` is deprecated and will be removed in v0.14.0. Assign the `x` variable to `hue` and set `legend=False` for the same effect.\n",
            "\n",
            "  ax = sns.barplot(x=list(set(precision_values)),\n"
          ]
        },
        {
          "output_type": "display_data",
          "data": {
            "text/plain": [
              "<Figure size 640x480 with 1 Axes>"
            ],
            "image/png": "[encoded data removed]"
          },
          "metadata": {}
        }
      ]
    },
    {
      "cell_type": "markdown",
      "source": [
        "- Precision@K = 1.00 (68 kali): Sekitar 34% dari parfum yang diuji mendapatkan 5 rekomendasi yang sepenuhnya relevan, menunjukkan bahwa sistem rekomendasi bekerja dengan baik untuk sebagian besar kasus dengan 5 rekomendasi.\n",
        "- Precision@K = 0.00 (43 kali): Sekitar 21% dari sampel tidak mendapatkan rekomendasi yang relevan sama sekali, menunjukkan bahwa ada cukup banyak kasus di mana sistem rekomendasi gagal memberikan hasil yang sesuai.\n",
        "- Precision@K = 0.20 (43 kali): Sekitar 21% dari sampel hanya mendapatkan 1 rekomendasi relevan dari 5, yang menunjukkan bahwa sebagian besar rekomendasi masih tidak relevan, meskipun ada beberapa yang sesuai."
      ],
      "metadata": {
        "id": "VqSt2dTxHvqm"
      }
    },
    {
      "cell_type": "markdown",
      "source": [
        "### 6.2 Evaluasi Hasil Untuk K=10:"
      ],
      "metadata": {
        "id": "tPPknL1qRMnz"
      }
    },
    {
      "cell_type": "code",
      "source": [
        "precisions = {perfume: calculate_precision_at_k(perfume, cosine_sim_df, k=10) for perfume in test_perfumes}\n",
        "precision_values = list(precisions.values())\n",
        "sns.set(style=\"whitegrid\")\n",
        "\n",
        "ax = sns.barplot(x=list(set(precision_values)),\n",
        "                 y=[precision_values.count(x) for x in set(precision_values)],\n",
        "                 palette=\"viridis\")\n",
        "\n",
        "for p in ax.patches:\n",
        "    height = p.get_height()\n",
        "    ax.text(p.get_x() + p.get_width() / 2., height,\n",
        "            f'{int(height)}',\n",
        "            ha='center', va='bottom', fontsize=12, color='black')\n",
        "\n",
        "plt.xlabel('Precision@K')\n",
        "plt.ylabel('Frekuensi')\n",
        "plt.title('Distribusi Precision@K untuk K=10')\n",
        "plt.show()"
      ],
      "metadata": {
        "colab": {
          "base_uri": "https://localhost:8080/",
          "height": 587
        },
        "id": "HFx34utg_ObJ",
        "outputId": "e8766fd0-4fe1-42f9-9ed6-0c8a3978f265"
      },
      "execution_count": 18,
      "outputs": [
        {
          "output_type": "stream",
          "name": "stderr",
          "text": [
            "<ipython-input-18-fecb76eba9b2>:5: FutureWarning: \n",
            "\n",
            "Passing `palette` without assigning `hue` is deprecated and will be removed in v0.14.0. Assign the `x` variable to `hue` and set `legend=False` for the same effect.\n",
            "\n",
            "  ax = sns.barplot(x=list(set(precision_values)),\n"
          ]
        },
        {
          "output_type": "display_data",
          "data": {
            "text/plain": [
              "<Figure size 640x480 with 1 Axes>"
            ],
            "image/png": "[encoded data removed]"
          },
          "metadata": {}
        }
      ]
    },
    {
      "cell_type": "markdown",
      "source": [
        "- Precision@K = 0.00 (43 kali): Sekitar 21% sampel masih tidak mendapatkan rekomendasi relevan meskipun jumlah rekomendasi yang diberikan meningkat menjadi 10. Ini menunjukkan bahwa menambah jumlah rekomendasi tidak selalu memperbaiki hasil.\n",
        "- Precision@K = 0.10 (43 kali): Sekitar 21% sampel hanya memiliki 1 rekomendasi relevan dari 10, yang berarti meskipun lebih banyak rekomendasi diberikan, kualitasnya tidak banyak meningkat.\n",
        "- Precision@K = 1.00 (30 kali): Sekitar 15% sampel mendapatkan 10 rekomendasi yang sepenuhnya relevan, meskipun lebih sedikit dibandingkan dengan K=5."
      ],
      "metadata": {
        "id": "j8A7vQV-JZmR"
      }
    },
    {
      "cell_type": "markdown",
      "source": [
        "### 6.3 Evaluasi Hasil Untuk K=20:"
      ],
      "metadata": {
        "id": "G6O6dmtzRXZt"
      }
    },
    {
      "cell_type": "code",
      "source": [
        "precisions = {perfume: calculate_precision_at_k(perfume, cosine_sim_df, k=20) for perfume in test_perfumes}\n",
        "precision_values = list(precisions.values())\n",
        "sns.set(style=\"whitegrid\")\n",
        "plt.figure(figsize=(10, 6))\n",
        "\n",
        "ax = sns.barplot(x=list(set(precision_values)),\n",
        "                 y=[precision_values.count(x) for x in set(precision_values)],\n",
        "                 palette=\"viridis\")\n",
        "\n",
        "for p in ax.patches:\n",
        "    height = p.get_height()\n",
        "    ax.text(p.get_x() + p.get_width() / 2., height,\n",
        "            f'{int(height)}',\n",
        "            ha='center', va='bottom', fontsize=12, color='black')\n",
        "\n",
        "plt.xlabel('Precision@K')\n",
        "plt.ylabel('Frekuensi')\n",
        "plt.title('Distribusi Precision@K untuk K=20')\n",
        "plt.tight_layout()\n",
        "plt.show()"
      ],
      "metadata": {
        "id": "vYRXZC96_UqU",
        "colab": {
          "base_uri": "https://localhost:8080/",
          "height": 708
        },
        "outputId": "d4c8252f-aea3-49cc-8a5b-ebe2dbeb7ed8"
      },
      "execution_count": 20,
      "outputs": [
        {
          "output_type": "stream",
          "name": "stderr",
          "text": [
            "<ipython-input-20-d263e74bce2b>:6: FutureWarning: \n",
            "\n",
            "Passing `palette` without assigning `hue` is deprecated and will be removed in v0.14.0. Assign the `x` variable to `hue` and set `legend=False` for the same effect.\n",
            "\n",
            "  ax = sns.barplot(x=list(set(precision_values)),\n"
          ]
        },
        {
          "output_type": "display_data",
          "data": {
            "text/plain": [
              "<Figure size 1000x600 with 1 Axes>"
            ],
            "image/png": "[encoded data removed]"
          },
          "metadata": {}
        }
      ]
    },
    {
      "cell_type": "markdown",
      "source": [
        "- Precision@K = 0.00 (43 kali): Sekitar 21% sampel masih tidak mendapatkan rekomendasi yang relevan meskipun jumlah rekomendasi bertambah hingga 20, yang menunjukkan bahwa menambah jumlah rekomendasi tidak meningkatkan kualitas secara signifikan.\n",
        "- Precision@K = 0.05 hingga 0.45 (5-43 kali): Banyak sampel hanya memiliki sedikit rekomendasi yang relevan, sekitar 1-3 dari 20 rekomendasi. Artinya, meskipun lebih banyak rekomendasi diberikan, mayoritas rekomendasi tidak relevan.\n",
        "- Precision@K = 1.00 (11 kali): Hanya sekitar 5% dari sampel yang mendapatkan 20 rekomendasi yang sepenuhnya relevan, yang lebih sedikit dibandingkan dengan K=5 dan K=10."
      ],
      "metadata": {
        "id": "s7lfndfBJzLN"
      }
    },
    {
      "cell_type": "markdown",
      "source": [
        "### 6.4 Kesimpulan Hasil Evaluasi dan Rekomendasi\n",
        "\n",
        "- K=5 memberikan hasil terbaik dengan sekitar 34% sampel mendapatkan 5 rekomendasi yang sepenuhnya relevan. Namun, masih ada sekitar 21% sampel yang mendapatkan hasil yang sangat buruk (relevansi 0%).\n",
        "- K=10 tidak banyak memperbaiki hasil, meskipun lebih banyak rekomendasi diberikan, banyak sampel yang hanya memiliki sedikit rekomendasi relevan (1-2 dari 10).\n",
        "- K=20 justru menurunkan kualitas rekomendasi, dengan lebih banyak sampel yang mendapatkan sedikit rekomendasi relevan meskipun ada 20 rekomendasi yang diberikan.\n",
        "  \n",
        "Rekomendasi: Untuk sistem rekomendasi ini, menggunakan K=5 lebih efektif karena memberikan rekomendasi yang lebih relevan secara konsisten dibandingkan dengan menambah jumlah rekomendasi."
      ],
      "metadata": {
        "id": "wrOV1pY6_NCi"
      }
    }
  ]
}